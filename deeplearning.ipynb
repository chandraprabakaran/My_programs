{
 "cells": [
  {
   "cell_type": "code",
   "execution_count": 2,
   "metadata": {
    "colab": {
     "base_uri": "https://localhost:8080/"
    },
    "id": "dkPa8kaLV0YS",
    "outputId": "38281e7a-c94a-44ea-845b-02cfba0836c9"
   },
   "outputs": [],
   "source": [
    "# from zipfile import ZipFile\n",
    "# file_name = \"/Users/chandru/Desktop/Python/python4e/code3/6768/archives.zip\"\n",
    "\n",
    "# with ZipFile(file_name,'r') as zipfile:\n",
    "#     zipfile.extractall()\n",
    "#     print('Done')"
   ]
  },
  {
   "cell_type": "code",
   "execution_count": null,
   "metadata": {
    "id": "UMUy7DcLrVdZ"
   },
   "outputs": [],
   "source": [
    "import numpy as np\n",
    "import cv2\n",
    "import tensorflow as tf\n",
    "from tensorflow import keras\n",
    "from keras.models import Sequential\n",
    "from keras.layers import Dense, Dropout, Flatten\n",
    "from keras.layers import Conv2D\n",
    "from tensorflow.keras.optimizers import Adam\n",
    "from keras.layers import MaxPooling2D\n",
    "from keras.preprocessing.image import ImageDataGenerator"
   ]
  },
  {
   "cell_type": "code",
   "execution_count": 1,
   "metadata": {
    "id": "P-tG3EXIriPn"
   },
   "outputs": [],
   "source": [
    "train_dir = \"/Users/chandru/Desktop/Python/python4e/code3/6768/archives/train\"\n",
    "val_dir = \"/Users/chandru/Desktop/Python/python4e/code3/6768/archives/test\""
   ]
  },
  {
   "cell_type": "code",
   "execution_count": null,
   "metadata": {
    "colab": {
     "base_uri": "https://localhost:8080/"
    },
    "id": "08m2YZC-rph-",
    "outputId": "1edf7076-f233-49b3-85d0-632129d7617c"
   },
   "outputs": [],
   "source": [
    "from keras.preprocessing.image import ImageDataGenerator\n",
    "train_datagen = ImageDataGenerator(rescale=1./255)\n",
    "val_datagen = ImageDataGenerator(rescale=1./255)\n",
    "\n",
    "train_generator = train_datagen.flow_from_directory(\n",
    "        train_dir,\n",
    "        target_size=(48,48),\n",
    "        batch_size=64,\n",
    "        color_mode=\"grayscale\",\n",
    "        class_mode='categorical')\n",
    "\n",
    "validation_generator = val_datagen.flow_from_directory(\n",
    "        val_dir,\n",
    "        target_size=(48,48),\n",
    "        batch_size=64,\n",
    "        color_mode=\"grayscale\",\n",
    "        class_mode='categorical')"
   ]
  },
  {
   "cell_type": "code",
   "execution_count": null,
   "metadata": {
    "colab": {
     "base_uri": "https://localhost:8080/"
    },
    "id": "tj88GkKztYH4",
    "outputId": "6beb4b4d-cb80-499a-c0b4-46fd28ce5314"
   },
   "outputs": [
    {
     "name": "stdout",
     "output_type": "stream",
     "text": [
      "Downloading data from https://storage.googleapis.com/tensorflow/keras-applications/resnet/resnet50_weights_tf_dim_ordering_tf_kernels_notop.h5\n",
      "94773248/94765736 [==============================] - 1s 0us/step\n",
      "94781440/94765736 [==============================] - 1s 0us/step\n"
     ]
    }
   ],
   "source": [
    "base_model  = tf.keras.applications.ResNet50(input_shape=(48,48,3),include_top=False,weights='imagenet')"
   ]
  },
  {
   "cell_type": "code",
   "execution_count": null,
   "metadata": {
    "id": "7NpjaZKcrsof"
   },
   "outputs": [],
   "source": [
    "emotion_model = Sequential()\n",
    "emotion_model.add(Conv2D(32, kernel_size=(3, 3), activation='relu', input_shape=(48,48,1)))\n",
    "emotion_model.add(Conv2D(64, kernel_size=(3, 3), activation='relu'))\n",
    "emotion_model.add(MaxPooling2D(pool_size=(2, 2)))\n",
    "emotion_model.add(Dropout(0.25))\n",
    "emotion_model.add(Conv2D(128, kernel_size=(3, 3), activation='relu'))\n",
    "emotion_model.add(MaxPooling2D(pool_size=(2, 2)))\n",
    "emotion_model.add(Conv2D(128, kernel_size=(3, 3), activation='relu'))\n",
    "emotion_model.add(MaxPooling2D(pool_size=(2, 2)))\n",
    "emotion_model.add(Dropout(0.25))\n",
    "emotion_model.add(Flatten())\n",
    "emotion_model.add(Dense(1024, activation='relu'))\n",
    "emotion_model.add(Dropout(0.5))\n",
    "emotion_model.add(Dense(7, activation='softmax'))"
   ]
  },
  {
   "cell_type": "code",
   "execution_count": null,
   "metadata": {
    "colab": {
     "base_uri": "https://localhost:8080/"
    },
    "id": "ljB44eq-rvYu",
    "outputId": "1936d526-b6e2-4746-d2d1-8dd375a225b6"
   },
   "outputs": [
    {
     "name": "stderr",
     "output_type": "stream",
     "text": [
      "/usr/local/lib/python3.7/dist-packages/keras/optimizer_v2/adam.py:105: UserWarning: The `lr` argument is deprecated, use `learning_rate` instead.\n",
      "  super(Adam, self).__init__(name, **kwargs)\n",
      "/usr/local/lib/python3.7/dist-packages/ipykernel_launcher.py:7: UserWarning: `Model.fit_generator` is deprecated and will be removed in a future version. Please use `Model.fit`, which supports generators.\n",
      "  import sys\n"
     ]
    },
    {
     "name": "stdout",
     "output_type": "stream",
     "text": [
      "Epoch 1/50\n",
      "448/448 [==============================] - 388s 864ms/step - loss: 1.7963 - accuracy: 0.2598 - val_loss: 1.6955 - val_accuracy: 0.3478\n",
      "Epoch 2/50\n",
      "448/448 [==============================] - 390s 871ms/step - loss: 1.6175 - accuracy: 0.3702 - val_loss: 1.5283 - val_accuracy: 0.4134\n",
      "Epoch 3/50\n",
      "448/448 [==============================] - 390s 870ms/step - loss: 1.5157 - accuracy: 0.4179 - val_loss: 1.4446 - val_accuracy: 0.4501\n",
      "Epoch 4/50\n",
      "448/448 [==============================] - 389s 869ms/step - loss: 1.4411 - accuracy: 0.4504 - val_loss: 1.3952 - val_accuracy: 0.4696\n",
      "Epoch 5/50\n",
      "448/448 [==============================] - 391s 873ms/step - loss: 1.3790 - accuracy: 0.4766 - val_loss: 1.3260 - val_accuracy: 0.4986\n",
      "Epoch 6/50\n",
      "448/448 [==============================] - 394s 879ms/step - loss: 1.3289 - accuracy: 0.4986 - val_loss: 1.2920 - val_accuracy: 0.5116\n",
      "Epoch 7/50\n",
      "448/448 [==============================] - 395s 882ms/step - loss: 1.2850 - accuracy: 0.5116 - val_loss: 1.2601 - val_accuracy: 0.5247\n",
      "Epoch 8/50\n",
      "448/448 [==============================] - 396s 884ms/step - loss: 1.2508 - accuracy: 0.5257 - val_loss: 1.2358 - val_accuracy: 0.5324\n",
      "Epoch 9/50\n",
      "448/448 [==============================] - 395s 881ms/step - loss: 1.2106 - accuracy: 0.5426 - val_loss: 1.2077 - val_accuracy: 0.5438\n",
      "Epoch 10/50\n",
      "448/448 [==============================] - 394s 880ms/step - loss: 1.1838 - accuracy: 0.5554 - val_loss: 1.1894 - val_accuracy: 0.5552\n",
      "Epoch 11/50\n",
      "448/448 [==============================] - 396s 885ms/step - loss: 1.1574 - accuracy: 0.5661 - val_loss: 1.1614 - val_accuracy: 0.5632\n",
      "Epoch 12/50\n",
      "448/448 [==============================] - 396s 883ms/step - loss: 1.1290 - accuracy: 0.5770 - val_loss: 1.1528 - val_accuracy: 0.5654\n",
      "Epoch 13/50\n",
      "448/448 [==============================] - 395s 882ms/step - loss: 1.1032 - accuracy: 0.5897 - val_loss: 1.1439 - val_accuracy: 0.5721\n",
      "Epoch 14/50\n",
      "448/448 [==============================] - 398s 888ms/step - loss: 1.0809 - accuracy: 0.5963 - val_loss: 1.1289 - val_accuracy: 0.5769\n",
      "Epoch 15/50\n",
      "448/448 [==============================] - 385s 860ms/step - loss: 1.0544 - accuracy: 0.6063 - val_loss: 1.1165 - val_accuracy: 0.5809\n",
      "Epoch 16/50\n",
      "448/448 [==============================] - 382s 852ms/step - loss: 1.0336 - accuracy: 0.6169 - val_loss: 1.1218 - val_accuracy: 0.5771\n",
      "Epoch 17/50\n",
      "448/448 [==============================] - 386s 861ms/step - loss: 1.0101 - accuracy: 0.6267 - val_loss: 1.1045 - val_accuracy: 0.5840\n",
      "Epoch 18/50\n",
      "448/448 [==============================] - 384s 857ms/step - loss: 0.9884 - accuracy: 0.6334 - val_loss: 1.0916 - val_accuracy: 0.5889\n",
      "Epoch 19/50\n",
      "448/448 [==============================] - 379s 847ms/step - loss: 0.9654 - accuracy: 0.6411 - val_loss: 1.0760 - val_accuracy: 0.5971\n",
      "Epoch 20/50\n",
      "448/448 [==============================] - 387s 863ms/step - loss: 0.9448 - accuracy: 0.6524 - val_loss: 1.0762 - val_accuracy: 0.5984\n",
      "Epoch 21/50\n",
      "448/448 [==============================] - 384s 858ms/step - loss: 0.9227 - accuracy: 0.6582 - val_loss: 1.0706 - val_accuracy: 0.6023\n",
      "Epoch 22/50\n",
      "448/448 [==============================] - 385s 860ms/step - loss: 0.8975 - accuracy: 0.6691 - val_loss: 1.0629 - val_accuracy: 0.6063\n",
      "Epoch 23/50\n",
      "448/448 [==============================] - 384s 858ms/step - loss: 0.8740 - accuracy: 0.6781 - val_loss: 1.0704 - val_accuracy: 0.6028\n",
      "Epoch 24/50\n",
      "448/448 [==============================] - 380s 849ms/step - loss: 0.8490 - accuracy: 0.6859 - val_loss: 1.0652 - val_accuracy: 0.6074\n",
      "Epoch 25/50\n",
      "448/448 [==============================] - 382s 852ms/step - loss: 0.8320 - accuracy: 0.6958 - val_loss: 1.0661 - val_accuracy: 0.6063\n",
      "Epoch 26/50\n",
      "448/448 [==============================] - 385s 860ms/step - loss: 0.8069 - accuracy: 0.7051 - val_loss: 1.0618 - val_accuracy: 0.6091\n",
      "Epoch 27/50\n",
      "448/448 [==============================] - 386s 862ms/step - loss: 0.7842 - accuracy: 0.7140 - val_loss: 1.0633 - val_accuracy: 0.6137\n",
      "Epoch 28/50\n",
      "448/448 [==============================] - 385s 858ms/step - loss: 0.7654 - accuracy: 0.7223 - val_loss: 1.0670 - val_accuracy: 0.6131\n",
      "Epoch 29/50\n",
      "448/448 [==============================] - 384s 858ms/step - loss: 0.7453 - accuracy: 0.7271 - val_loss: 1.0665 - val_accuracy: 0.6045\n",
      "Epoch 30/50\n",
      "448/448 [==============================] - 383s 855ms/step - loss: 0.7233 - accuracy: 0.7387 - val_loss: 1.0690 - val_accuracy: 0.6177\n",
      "Epoch 31/50\n",
      "448/448 [==============================] - 384s 858ms/step - loss: 0.6985 - accuracy: 0.7451 - val_loss: 1.0776 - val_accuracy: 0.6130\n",
      "Epoch 32/50\n",
      "448/448 [==============================] - 385s 860ms/step - loss: 0.6832 - accuracy: 0.7518 - val_loss: 1.0750 - val_accuracy: 0.6168\n",
      "Epoch 33/50\n",
      "448/448 [==============================] - 387s 864ms/step - loss: 0.6616 - accuracy: 0.7597 - val_loss: 1.0772 - val_accuracy: 0.6129\n",
      "Epoch 34/50\n",
      "448/448 [==============================] - 385s 860ms/step - loss: 0.6354 - accuracy: 0.7715 - val_loss: 1.0786 - val_accuracy: 0.6219\n",
      "Epoch 35/50\n",
      "448/448 [==============================] - 384s 856ms/step - loss: 0.6179 - accuracy: 0.7767 - val_loss: 1.0854 - val_accuracy: 0.6200\n",
      "Epoch 36/50\n",
      "448/448 [==============================] - 383s 854ms/step - loss: 0.6011 - accuracy: 0.7810 - val_loss: 1.0836 - val_accuracy: 0.6226\n",
      "Epoch 37/50\n",
      "448/448 [==============================] - 382s 853ms/step - loss: 0.5806 - accuracy: 0.7904 - val_loss: 1.0847 - val_accuracy: 0.6264\n",
      "Epoch 38/50\n",
      "448/448 [==============================] - 385s 859ms/step - loss: 0.5658 - accuracy: 0.7931 - val_loss: 1.1150 - val_accuracy: 0.6147\n",
      "Epoch 39/50\n",
      "448/448 [==============================] - 384s 857ms/step - loss: 0.5481 - accuracy: 0.8010 - val_loss: 1.1075 - val_accuracy: 0.6170\n",
      "Epoch 40/50\n",
      "448/448 [==============================] - 384s 856ms/step - loss: 0.5266 - accuracy: 0.8089 - val_loss: 1.1404 - val_accuracy: 0.6183\n",
      "Epoch 41/50\n",
      "448/448 [==============================] - 385s 860ms/step - loss: 0.5072 - accuracy: 0.8158 - val_loss: 1.1324 - val_accuracy: 0.6217\n",
      "Epoch 42/50\n",
      "448/448 [==============================] - 386s 863ms/step - loss: 0.4941 - accuracy: 0.8202 - val_loss: 1.1184 - val_accuracy: 0.6232\n",
      "Epoch 43/50\n",
      "448/448 [==============================] - 387s 863ms/step - loss: 0.4784 - accuracy: 0.8278 - val_loss: 1.1261 - val_accuracy: 0.6221\n",
      "Epoch 44/50\n",
      "448/448 [==============================] - 385s 860ms/step - loss: 0.4617 - accuracy: 0.8318 - val_loss: 1.1374 - val_accuracy: 0.6264\n",
      "Epoch 45/50\n",
      "448/448 [==============================] - 385s 860ms/step - loss: 0.4515 - accuracy: 0.8375 - val_loss: 1.1596 - val_accuracy: 0.6183\n",
      "Epoch 46/50\n",
      "448/448 [==============================] - 385s 860ms/step - loss: 0.4346 - accuracy: 0.8435 - val_loss: 1.1546 - val_accuracy: 0.6251\n",
      "Epoch 47/50\n",
      "448/448 [==============================] - 388s 866ms/step - loss: 0.4252 - accuracy: 0.8483 - val_loss: 1.1717 - val_accuracy: 0.6225\n",
      "Epoch 48/50\n",
      "448/448 [==============================] - 389s 868ms/step - loss: 0.4057 - accuracy: 0.8529 - val_loss: 1.1839 - val_accuracy: 0.6236\n",
      "Epoch 49/50\n",
      "448/448 [==============================] - 390s 871ms/step - loss: 0.3936 - accuracy: 0.8570 - val_loss: 1.1813 - val_accuracy: 0.6217\n",
      "Epoch 50/50\n",
      "448/448 [==============================] - 387s 864ms/step - loss: 0.3883 - accuracy: 0.8589 - val_loss: 1.1912 - val_accuracy: 0.6293\n"
     ]
    }
   ],
   "source": [
    "emotion_model.compile(loss='categorical_crossentropy',optimizer=Adam(lr=0.0001, decay=1e-6),metrics=['accuracy'])\n",
    "emotion_model_info = emotion_model.fit_generator(\n",
    "        train_generator,\n",
    "        steps_per_epoch=28709 // 64,\n",
    "        epochs=50,\n",
    "        validation_data=validation_generator,\n",
    "        validation_steps=7178 // 64)"
   ]
  },
  {
   "cell_type": "code",
   "execution_count": null,
   "metadata": {
    "id": "yo--SwyEbMVZ"
   },
   "outputs": [],
   "source": [
    "fer_json = emotion_model.to_json()\n",
    "with open(\"femotion.json\", \"w\") as json_file:\n",
    "    json_file.write(fer_json)\n",
    "emotion_model.save_weights(\"femweight.h5\")"
   ]
  }
 ],
 "metadata": {
  "colab": {
   "collapsed_sections": [],
   "name": "6768 vij.ipynb",
   "provenance": []
  },
  "kernelspec": {
   "display_name": "Python 3",
   "language": "python",
   "name": "python3"
  },
  "language_info": {
   "codemirror_mode": {
    "name": "ipython",
    "version": 3
   },
   "file_extension": ".py",
   "mimetype": "text/x-python",
   "name": "python",
   "nbconvert_exporter": "python",
   "pygments_lexer": "ipython3",
   "version": "3.8.8"
  }
 },
 "nbformat": 4,
 "nbformat_minor": 1
}
