{
 "cells": [
  {
   "cell_type": "code",
   "execution_count": 2,
   "metadata": {
    "colab": {
     "base_uri": "https://localhost:8080/"
    },
    "id": "g0U6tOwuR_Qb",
    "outputId": "64905714-6333-43dc-c7a1-262f8d2a7823"
   },
   "outputs": [],
   "source": [
    "# from google.colab import drive\n",
    "# drive.mount('/content/grive')"
   ]
  },
  {
   "cell_type": "code",
   "execution_count": 3,
   "metadata": {
    "id": "pceCZ8ELSL_w"
   },
   "outputs": [],
   "source": [
    "import matplotlib.pyplot as plt\n",
    "import seaborn as sns"
   ]
  },
  {
   "cell_type": "code",
   "execution_count": 4,
   "metadata": {
    "colab": {
     "base_uri": "https://localhost:8080/",
     "height": 17
    },
    "id": "575c6tcYSRn4",
    "outputId": "572d72a6-b6b1-40ac-a7c0-0123487d72e2"
   },
   "outputs": [
    {
     "data": {
      "text/html": [
       "        <script type=\"text/javascript\">\n",
       "        window.PlotlyConfig = {MathJaxConfig: 'local'};\n",
       "        if (window.MathJax) {MathJax.Hub.Config({SVG: {font: \"STIX-Web\"}});}\n",
       "        if (typeof require !== 'undefined') {\n",
       "        require.undef(\"plotly\");\n",
       "        requirejs.config({\n",
       "            paths: {\n",
       "                'plotly': ['https://cdn.plot.ly/plotly-2.4.2.min']\n",
       "            }\n",
       "        });\n",
       "        require(['plotly'], function(Plotly) {\n",
       "            window._Plotly = Plotly;\n",
       "        });\n",
       "        }\n",
       "        </script>\n",
       "        "
      ]
     },
     "metadata": {},
     "output_type": "display_data"
    },
    {
     "data": {
      "text/html": [
       "<style>.container { width:90% !important; }</style>"
      ],
      "text/plain": [
       "<IPython.core.display.HTML object>"
      ]
     },
     "metadata": {},
     "output_type": "display_data"
    }
   ],
   "source": [
    "## Data Preperation Libraries\n",
    "import numpy as np\n",
    "import pandas as pd\n",
    "import matplotlib.pyplot as plt\n",
    "from sklearn.preprocessing import StandardScaler\n",
    "from sklearn.model_selection import train_test_split\n",
    "from sklearn import preprocessing\n",
    "## Support Vector Machine Libraries\n",
    "from sklearn import svm\n",
    "## Decision Tree Libraries\n",
    "from sklearn import tree\n",
    "## Adaboost Libraries\n",
    "from sklearn.ensemble import AdaBoostClassifier\n",
    "from sklearn.tree import DecisionTreeClassifier\n",
    "## Cross Validation Libraries \n",
    "from sklearn.model_selection import cross_val_score\n",
    "from sklearn.model_selection import cross_validate\n",
    "## Library for plotting\n",
    "# import matplotlib.pyplot as plt\n",
    "## Library for calculating performance metrics\n",
    "from sklearn.metrics import classification_report, confusion_matrix  \n",
    "from sklearn.metrics import accuracy_score,roc_curve, auc\n",
    "from sklearn import metrics\n",
    "from sklearn.tree import DecisionTreeClassifier\n",
    "from sklearn.tree import DecisionTreeRegressor\n",
    "from sklearn.ensemble import AdaBoostRegressor\n",
    "import warnings\n",
    "from plotly.offline import download_plotlyjs, init_notebook_mode, plot, iplot\n",
    "import seaborn as sns\n",
    "import os\n",
    "import time\n",
    "#Setting options\n",
    "init_notebook_mode(connected=True)\n",
    "warnings.filterwarnings(\"ignore\")\n",
    "\n",
    "#Set Default option\n",
    "from IPython.core.display import display, HTML\n",
    "display(HTML(\"<style>.container { width:90% !important; }</style>\"))\n",
    "pd.options.display.max_rows = 3000"
   ]
  },
  {
   "cell_type": "code",
   "execution_count": 77,
   "metadata": {
    "colab": {
     "base_uri": "https://localhost:8080/",
     "height": 223
    },
    "id": "s7tNZjVHScPY",
    "outputId": "8dae19ce-aaec-4416-f0aa-fdfac762a462"
   },
   "outputs": [
    {
     "data": {
      "text/html": [
       "<div>\n",
       "<style scoped>\n",
       "    .dataframe tbody tr th:only-of-type {\n",
       "        vertical-align: middle;\n",
       "    }\n",
       "\n",
       "    .dataframe tbody tr th {\n",
       "        vertical-align: top;\n",
       "    }\n",
       "\n",
       "    .dataframe thead th {\n",
       "        text-align: right;\n",
       "    }\n",
       "</style>\n",
       "<table border=\"1\" class=\"dataframe\">\n",
       "  <thead>\n",
       "    <tr style=\"text-align: right;\">\n",
       "      <th></th>\n",
       "      <th>Temperature of patient</th>\n",
       "      <th>Occurrence of nausea</th>\n",
       "      <th>Lumbar pain</th>\n",
       "      <th>Urine pushing</th>\n",
       "      <th>Micturition pains</th>\n",
       "      <th>Burning of urethra</th>\n",
       "      <th>decision: Inflammation of urinary bladder</th>\n",
       "      <th>decision: Nephritis of renal pelvis origin</th>\n",
       "    </tr>\n",
       "  </thead>\n",
       "  <tbody>\n",
       "    <tr>\n",
       "      <th>0</th>\n",
       "      <td>35.5</td>\n",
       "      <td>no</td>\n",
       "      <td>yes</td>\n",
       "      <td>no</td>\n",
       "      <td>no</td>\n",
       "      <td>no</td>\n",
       "      <td>no</td>\n",
       "      <td>no</td>\n",
       "    </tr>\n",
       "    <tr>\n",
       "      <th>1</th>\n",
       "      <td>35.9</td>\n",
       "      <td>no</td>\n",
       "      <td>no</td>\n",
       "      <td>yes</td>\n",
       "      <td>yes</td>\n",
       "      <td>yes</td>\n",
       "      <td>yes</td>\n",
       "      <td>no</td>\n",
       "    </tr>\n",
       "    <tr>\n",
       "      <th>2</th>\n",
       "      <td>35.9</td>\n",
       "      <td>no</td>\n",
       "      <td>yes</td>\n",
       "      <td>no</td>\n",
       "      <td>no</td>\n",
       "      <td>no</td>\n",
       "      <td>no</td>\n",
       "      <td>no</td>\n",
       "    </tr>\n",
       "    <tr>\n",
       "      <th>3</th>\n",
       "      <td>36.0</td>\n",
       "      <td>no</td>\n",
       "      <td>no</td>\n",
       "      <td>yes</td>\n",
       "      <td>yes</td>\n",
       "      <td>yes</td>\n",
       "      <td>yes</td>\n",
       "      <td>no</td>\n",
       "    </tr>\n",
       "    <tr>\n",
       "      <th>4</th>\n",
       "      <td>36.0</td>\n",
       "      <td>no</td>\n",
       "      <td>yes</td>\n",
       "      <td>no</td>\n",
       "      <td>no</td>\n",
       "      <td>no</td>\n",
       "      <td>no</td>\n",
       "      <td>no</td>\n",
       "    </tr>\n",
       "    <tr>\n",
       "      <th>5</th>\n",
       "      <td>36.0</td>\n",
       "      <td>no</td>\n",
       "      <td>yes</td>\n",
       "      <td>no</td>\n",
       "      <td>no</td>\n",
       "      <td>no</td>\n",
       "      <td>no</td>\n",
       "      <td>no</td>\n",
       "    </tr>\n",
       "    <tr>\n",
       "      <th>6</th>\n",
       "      <td>36.2</td>\n",
       "      <td>no</td>\n",
       "      <td>no</td>\n",
       "      <td>yes</td>\n",
       "      <td>yes</td>\n",
       "      <td>yes</td>\n",
       "      <td>yes</td>\n",
       "      <td>no</td>\n",
       "    </tr>\n",
       "    <tr>\n",
       "      <th>7</th>\n",
       "      <td>36.2</td>\n",
       "      <td>no</td>\n",
       "      <td>yes</td>\n",
       "      <td>no</td>\n",
       "      <td>no</td>\n",
       "      <td>no</td>\n",
       "      <td>no</td>\n",
       "      <td>no</td>\n",
       "    </tr>\n",
       "    <tr>\n",
       "      <th>8</th>\n",
       "      <td>36.3</td>\n",
       "      <td>no</td>\n",
       "      <td>no</td>\n",
       "      <td>yes</td>\n",
       "      <td>yes</td>\n",
       "      <td>yes</td>\n",
       "      <td>yes</td>\n",
       "      <td>no</td>\n",
       "    </tr>\n",
       "    <tr>\n",
       "      <th>9</th>\n",
       "      <td>36.6</td>\n",
       "      <td>no</td>\n",
       "      <td>no</td>\n",
       "      <td>yes</td>\n",
       "      <td>yes</td>\n",
       "      <td>yes</td>\n",
       "      <td>yes</td>\n",
       "      <td>no</td>\n",
       "    </tr>\n",
       "    <tr>\n",
       "      <th>10</th>\n",
       "      <td>36.6</td>\n",
       "      <td>no</td>\n",
       "      <td>no</td>\n",
       "      <td>yes</td>\n",
       "      <td>yes</td>\n",
       "      <td>yes</td>\n",
       "      <td>yes</td>\n",
       "      <td>no</td>\n",
       "    </tr>\n",
       "    <tr>\n",
       "      <th>11</th>\n",
       "      <td>36.6</td>\n",
       "      <td>no</td>\n",
       "      <td>yes</td>\n",
       "      <td>no</td>\n",
       "      <td>no</td>\n",
       "      <td>no</td>\n",
       "      <td>no</td>\n",
       "      <td>no</td>\n",
       "    </tr>\n",
       "    <tr>\n",
       "      <th>12</th>\n",
       "      <td>36.6</td>\n",
       "      <td>no</td>\n",
       "      <td>yes</td>\n",
       "      <td>no</td>\n",
       "      <td>no</td>\n",
       "      <td>no</td>\n",
       "      <td>no</td>\n",
       "      <td>no</td>\n",
       "    </tr>\n",
       "    <tr>\n",
       "      <th>13</th>\n",
       "      <td>36.7</td>\n",
       "      <td>no</td>\n",
       "      <td>no</td>\n",
       "      <td>yes</td>\n",
       "      <td>yes</td>\n",
       "      <td>yes</td>\n",
       "      <td>yes</td>\n",
       "      <td>no</td>\n",
       "    </tr>\n",
       "    <tr>\n",
       "      <th>14</th>\n",
       "      <td>36.7</td>\n",
       "      <td>no</td>\n",
       "      <td>yes</td>\n",
       "      <td>no</td>\n",
       "      <td>no</td>\n",
       "      <td>no</td>\n",
       "      <td>no</td>\n",
       "      <td>no</td>\n",
       "    </tr>\n",
       "    <tr>\n",
       "      <th>15</th>\n",
       "      <td>36.7</td>\n",
       "      <td>no</td>\n",
       "      <td>yes</td>\n",
       "      <td>no</td>\n",
       "      <td>no</td>\n",
       "      <td>no</td>\n",
       "      <td>no</td>\n",
       "      <td>no</td>\n",
       "    </tr>\n",
       "    <tr>\n",
       "      <th>16</th>\n",
       "      <td>36.8</td>\n",
       "      <td>no</td>\n",
       "      <td>no</td>\n",
       "      <td>yes</td>\n",
       "      <td>yes</td>\n",
       "      <td>yes</td>\n",
       "      <td>yes</td>\n",
       "      <td>no</td>\n",
       "    </tr>\n",
       "    <tr>\n",
       "      <th>17</th>\n",
       "      <td>36.8</td>\n",
       "      <td>no</td>\n",
       "      <td>no</td>\n",
       "      <td>yes</td>\n",
       "      <td>yes</td>\n",
       "      <td>yes</td>\n",
       "      <td>yes</td>\n",
       "      <td>no</td>\n",
       "    </tr>\n",
       "    <tr>\n",
       "      <th>18</th>\n",
       "      <td>36.9</td>\n",
       "      <td>no</td>\n",
       "      <td>no</td>\n",
       "      <td>yes</td>\n",
       "      <td>yes</td>\n",
       "      <td>yes</td>\n",
       "      <td>yes</td>\n",
       "      <td>no</td>\n",
       "    </tr>\n",
       "    <tr>\n",
       "      <th>19</th>\n",
       "      <td>36.9</td>\n",
       "      <td>no</td>\n",
       "      <td>yes</td>\n",
       "      <td>no</td>\n",
       "      <td>no</td>\n",
       "      <td>no</td>\n",
       "      <td>no</td>\n",
       "      <td>no</td>\n",
       "    </tr>\n",
       "  </tbody>\n",
       "</table>\n",
       "</div>"
      ],
      "text/plain": [
       "    Temperature of patient Occurrence of nausea Lumbar pain Urine pushing  \\\n",
       "0                     35.5                   no         yes            no   \n",
       "1                     35.9                   no          no           yes   \n",
       "2                     35.9                   no         yes            no   \n",
       "3                     36.0                   no          no           yes   \n",
       "4                     36.0                   no         yes            no   \n",
       "5                     36.0                   no         yes            no   \n",
       "6                     36.2                   no          no           yes   \n",
       "7                     36.2                   no         yes            no   \n",
       "8                     36.3                   no          no           yes   \n",
       "9                     36.6                   no          no           yes   \n",
       "10                    36.6                   no          no           yes   \n",
       "11                    36.6                   no         yes            no   \n",
       "12                    36.6                   no         yes            no   \n",
       "13                    36.7                   no          no           yes   \n",
       "14                    36.7                   no         yes            no   \n",
       "15                    36.7                   no         yes            no   \n",
       "16                    36.8                   no          no           yes   \n",
       "17                    36.8                   no          no           yes   \n",
       "18                    36.9                   no          no           yes   \n",
       "19                    36.9                   no         yes            no   \n",
       "\n",
       "   Micturition pains Burning of urethra  \\\n",
       "0                 no                 no   \n",
       "1                yes                yes   \n",
       "2                 no                 no   \n",
       "3                yes                yes   \n",
       "4                 no                 no   \n",
       "5                 no                 no   \n",
       "6                yes                yes   \n",
       "7                 no                 no   \n",
       "8                yes                yes   \n",
       "9                yes                yes   \n",
       "10               yes                yes   \n",
       "11                no                 no   \n",
       "12                no                 no   \n",
       "13               yes                yes   \n",
       "14                no                 no   \n",
       "15                no                 no   \n",
       "16               yes                yes   \n",
       "17               yes                yes   \n",
       "18               yes                yes   \n",
       "19                no                 no   \n",
       "\n",
       "   decision: Inflammation of urinary bladder  \\\n",
       "0                                         no   \n",
       "1                                        yes   \n",
       "2                                         no   \n",
       "3                                        yes   \n",
       "4                                         no   \n",
       "5                                         no   \n",
       "6                                        yes   \n",
       "7                                         no   \n",
       "8                                        yes   \n",
       "9                                        yes   \n",
       "10                                       yes   \n",
       "11                                        no   \n",
       "12                                        no   \n",
       "13                                       yes   \n",
       "14                                        no   \n",
       "15                                        no   \n",
       "16                                       yes   \n",
       "17                                       yes   \n",
       "18                                       yes   \n",
       "19                                        no   \n",
       "\n",
       "   decision: Nephritis of renal pelvis origin  \n",
       "0                                          no  \n",
       "1                                          no  \n",
       "2                                          no  \n",
       "3                                          no  \n",
       "4                                          no  \n",
       "5                                          no  \n",
       "6                                          no  \n",
       "7                                          no  \n",
       "8                                          no  \n",
       "9                                          no  \n",
       "10                                         no  \n",
       "11                                         no  \n",
       "12                                         no  \n",
       "13                                         no  \n",
       "14                                         no  \n",
       "15                                         no  \n",
       "16                                         no  \n",
       "17                                         no  \n",
       "18                                         no  \n",
       "19                                         no  "
      ]
     },
     "execution_count": 77,
     "metadata": {},
     "output_type": "execute_result"
    }
   ],
   "source": [
    "import pandas as pd\n",
    "name = ['Temperature of patient', 'Occurrence of nausea', 'Lumbar pain', 'Urine pushing', 'Micturition pains',\n",
    "       'Burning of urethra', 'decision: Inflammation of urinary bladder',\n",
    "       'decision: Nephritis of renal pelvis origin']\n",
    "data = pd.read_csv('diagnosis.csv', names = name, skiprows=[0])\n",
    "data.head(20)"
   ]
  },
  {
   "cell_type": "code",
   "execution_count": 78,
   "metadata": {
    "colab": {
     "base_uri": "https://localhost:8080/",
     "height": 223
    },
    "id": "lol-aeIxuSJD",
    "outputId": "cf6d6ddf-2ac6-4d4d-9b88-42091c4ad73f"
   },
   "outputs": [
    {
     "data": {
      "text/html": [
       "<div>\n",
       "<style scoped>\n",
       "    .dataframe tbody tr th:only-of-type {\n",
       "        vertical-align: middle;\n",
       "    }\n",
       "\n",
       "    .dataframe tbody tr th {\n",
       "        vertical-align: top;\n",
       "    }\n",
       "\n",
       "    .dataframe thead th {\n",
       "        text-align: right;\n",
       "    }\n",
       "</style>\n",
       "<table border=\"1\" class=\"dataframe\">\n",
       "  <thead>\n",
       "    <tr style=\"text-align: right;\">\n",
       "      <th></th>\n",
       "      <th>Temperature of patient</th>\n",
       "      <th>Occurrence of nausea</th>\n",
       "      <th>Lumbar pain</th>\n",
       "      <th>Urine pushing</th>\n",
       "      <th>Micturition pains</th>\n",
       "      <th>Burning of urethra</th>\n",
       "      <th>decision: Inflammation of urinary bladder</th>\n",
       "      <th>decision: Nephritis of renal pelvis origin</th>\n",
       "    </tr>\n",
       "  </thead>\n",
       "  <tbody>\n",
       "    <tr>\n",
       "      <th>0</th>\n",
       "      <td>35.5</td>\n",
       "      <td>0</td>\n",
       "      <td>1</td>\n",
       "      <td>0</td>\n",
       "      <td>0</td>\n",
       "      <td>0</td>\n",
       "      <td>0</td>\n",
       "      <td>0</td>\n",
       "    </tr>\n",
       "    <tr>\n",
       "      <th>1</th>\n",
       "      <td>35.9</td>\n",
       "      <td>0</td>\n",
       "      <td>0</td>\n",
       "      <td>1</td>\n",
       "      <td>1</td>\n",
       "      <td>1</td>\n",
       "      <td>1</td>\n",
       "      <td>0</td>\n",
       "    </tr>\n",
       "    <tr>\n",
       "      <th>2</th>\n",
       "      <td>35.9</td>\n",
       "      <td>0</td>\n",
       "      <td>1</td>\n",
       "      <td>0</td>\n",
       "      <td>0</td>\n",
       "      <td>0</td>\n",
       "      <td>0</td>\n",
       "      <td>0</td>\n",
       "    </tr>\n",
       "    <tr>\n",
       "      <th>3</th>\n",
       "      <td>36.0</td>\n",
       "      <td>0</td>\n",
       "      <td>0</td>\n",
       "      <td>1</td>\n",
       "      <td>1</td>\n",
       "      <td>1</td>\n",
       "      <td>1</td>\n",
       "      <td>0</td>\n",
       "    </tr>\n",
       "    <tr>\n",
       "      <th>4</th>\n",
       "      <td>36.0</td>\n",
       "      <td>0</td>\n",
       "      <td>1</td>\n",
       "      <td>0</td>\n",
       "      <td>0</td>\n",
       "      <td>0</td>\n",
       "      <td>0</td>\n",
       "      <td>0</td>\n",
       "    </tr>\n",
       "    <tr>\n",
       "      <th>5</th>\n",
       "      <td>36.0</td>\n",
       "      <td>0</td>\n",
       "      <td>1</td>\n",
       "      <td>0</td>\n",
       "      <td>0</td>\n",
       "      <td>0</td>\n",
       "      <td>0</td>\n",
       "      <td>0</td>\n",
       "    </tr>\n",
       "    <tr>\n",
       "      <th>6</th>\n",
       "      <td>36.2</td>\n",
       "      <td>0</td>\n",
       "      <td>0</td>\n",
       "      <td>1</td>\n",
       "      <td>1</td>\n",
       "      <td>1</td>\n",
       "      <td>1</td>\n",
       "      <td>0</td>\n",
       "    </tr>\n",
       "    <tr>\n",
       "      <th>7</th>\n",
       "      <td>36.2</td>\n",
       "      <td>0</td>\n",
       "      <td>1</td>\n",
       "      <td>0</td>\n",
       "      <td>0</td>\n",
       "      <td>0</td>\n",
       "      <td>0</td>\n",
       "      <td>0</td>\n",
       "    </tr>\n",
       "    <tr>\n",
       "      <th>8</th>\n",
       "      <td>36.3</td>\n",
       "      <td>0</td>\n",
       "      <td>0</td>\n",
       "      <td>1</td>\n",
       "      <td>1</td>\n",
       "      <td>1</td>\n",
       "      <td>1</td>\n",
       "      <td>0</td>\n",
       "    </tr>\n",
       "    <tr>\n",
       "      <th>9</th>\n",
       "      <td>36.6</td>\n",
       "      <td>0</td>\n",
       "      <td>0</td>\n",
       "      <td>1</td>\n",
       "      <td>1</td>\n",
       "      <td>1</td>\n",
       "      <td>1</td>\n",
       "      <td>0</td>\n",
       "    </tr>\n",
       "    <tr>\n",
       "      <th>10</th>\n",
       "      <td>36.6</td>\n",
       "      <td>0</td>\n",
       "      <td>0</td>\n",
       "      <td>1</td>\n",
       "      <td>1</td>\n",
       "      <td>1</td>\n",
       "      <td>1</td>\n",
       "      <td>0</td>\n",
       "    </tr>\n",
       "    <tr>\n",
       "      <th>11</th>\n",
       "      <td>36.6</td>\n",
       "      <td>0</td>\n",
       "      <td>1</td>\n",
       "      <td>0</td>\n",
       "      <td>0</td>\n",
       "      <td>0</td>\n",
       "      <td>0</td>\n",
       "      <td>0</td>\n",
       "    </tr>\n",
       "    <tr>\n",
       "      <th>12</th>\n",
       "      <td>36.6</td>\n",
       "      <td>0</td>\n",
       "      <td>1</td>\n",
       "      <td>0</td>\n",
       "      <td>0</td>\n",
       "      <td>0</td>\n",
       "      <td>0</td>\n",
       "      <td>0</td>\n",
       "    </tr>\n",
       "    <tr>\n",
       "      <th>13</th>\n",
       "      <td>36.7</td>\n",
       "      <td>0</td>\n",
       "      <td>0</td>\n",
       "      <td>1</td>\n",
       "      <td>1</td>\n",
       "      <td>1</td>\n",
       "      <td>1</td>\n",
       "      <td>0</td>\n",
       "    </tr>\n",
       "    <tr>\n",
       "      <th>14</th>\n",
       "      <td>36.7</td>\n",
       "      <td>0</td>\n",
       "      <td>1</td>\n",
       "      <td>0</td>\n",
       "      <td>0</td>\n",
       "      <td>0</td>\n",
       "      <td>0</td>\n",
       "      <td>0</td>\n",
       "    </tr>\n",
       "    <tr>\n",
       "      <th>15</th>\n",
       "      <td>36.7</td>\n",
       "      <td>0</td>\n",
       "      <td>1</td>\n",
       "      <td>0</td>\n",
       "      <td>0</td>\n",
       "      <td>0</td>\n",
       "      <td>0</td>\n",
       "      <td>0</td>\n",
       "    </tr>\n",
       "    <tr>\n",
       "      <th>16</th>\n",
       "      <td>36.8</td>\n",
       "      <td>0</td>\n",
       "      <td>0</td>\n",
       "      <td>1</td>\n",
       "      <td>1</td>\n",
       "      <td>1</td>\n",
       "      <td>1</td>\n",
       "      <td>0</td>\n",
       "    </tr>\n",
       "    <tr>\n",
       "      <th>17</th>\n",
       "      <td>36.8</td>\n",
       "      <td>0</td>\n",
       "      <td>0</td>\n",
       "      <td>1</td>\n",
       "      <td>1</td>\n",
       "      <td>1</td>\n",
       "      <td>1</td>\n",
       "      <td>0</td>\n",
       "    </tr>\n",
       "    <tr>\n",
       "      <th>18</th>\n",
       "      <td>36.9</td>\n",
       "      <td>0</td>\n",
       "      <td>0</td>\n",
       "      <td>1</td>\n",
       "      <td>1</td>\n",
       "      <td>1</td>\n",
       "      <td>1</td>\n",
       "      <td>0</td>\n",
       "    </tr>\n",
       "    <tr>\n",
       "      <th>19</th>\n",
       "      <td>36.9</td>\n",
       "      <td>0</td>\n",
       "      <td>1</td>\n",
       "      <td>0</td>\n",
       "      <td>0</td>\n",
       "      <td>0</td>\n",
       "      <td>0</td>\n",
       "      <td>0</td>\n",
       "    </tr>\n",
       "  </tbody>\n",
       "</table>\n",
       "</div>"
      ],
      "text/plain": [
       "    Temperature of patient  Occurrence of nausea  Lumbar pain  Urine pushing  \\\n",
       "0                     35.5                     0            1              0   \n",
       "1                     35.9                     0            0              1   \n",
       "2                     35.9                     0            1              0   \n",
       "3                     36.0                     0            0              1   \n",
       "4                     36.0                     0            1              0   \n",
       "5                     36.0                     0            1              0   \n",
       "6                     36.2                     0            0              1   \n",
       "7                     36.2                     0            1              0   \n",
       "8                     36.3                     0            0              1   \n",
       "9                     36.6                     0            0              1   \n",
       "10                    36.6                     0            0              1   \n",
       "11                    36.6                     0            1              0   \n",
       "12                    36.6                     0            1              0   \n",
       "13                    36.7                     0            0              1   \n",
       "14                    36.7                     0            1              0   \n",
       "15                    36.7                     0            1              0   \n",
       "16                    36.8                     0            0              1   \n",
       "17                    36.8                     0            0              1   \n",
       "18                    36.9                     0            0              1   \n",
       "19                    36.9                     0            1              0   \n",
       "\n",
       "    Micturition pains  Burning of urethra  \\\n",
       "0                   0                   0   \n",
       "1                   1                   1   \n",
       "2                   0                   0   \n",
       "3                   1                   1   \n",
       "4                   0                   0   \n",
       "5                   0                   0   \n",
       "6                   1                   1   \n",
       "7                   0                   0   \n",
       "8                   1                   1   \n",
       "9                   1                   1   \n",
       "10                  1                   1   \n",
       "11                  0                   0   \n",
       "12                  0                   0   \n",
       "13                  1                   1   \n",
       "14                  0                   0   \n",
       "15                  0                   0   \n",
       "16                  1                   1   \n",
       "17                  1                   1   \n",
       "18                  1                   1   \n",
       "19                  0                   0   \n",
       "\n",
       "    decision: Inflammation of urinary bladder  \\\n",
       "0                                           0   \n",
       "1                                           1   \n",
       "2                                           0   \n",
       "3                                           1   \n",
       "4                                           0   \n",
       "5                                           0   \n",
       "6                                           1   \n",
       "7                                           0   \n",
       "8                                           1   \n",
       "9                                           1   \n",
       "10                                          1   \n",
       "11                                          0   \n",
       "12                                          0   \n",
       "13                                          1   \n",
       "14                                          0   \n",
       "15                                          0   \n",
       "16                                          1   \n",
       "17                                          1   \n",
       "18                                          1   \n",
       "19                                          0   \n",
       "\n",
       "    decision: Nephritis of renal pelvis origin  \n",
       "0                                            0  \n",
       "1                                            0  \n",
       "2                                            0  \n",
       "3                                            0  \n",
       "4                                            0  \n",
       "5                                            0  \n",
       "6                                            0  \n",
       "7                                            0  \n",
       "8                                            0  \n",
       "9                                            0  \n",
       "10                                           0  \n",
       "11                                           0  \n",
       "12                                           0  \n",
       "13                                           0  \n",
       "14                                           0  \n",
       "15                                           0  \n",
       "16                                           0  \n",
       "17                                           0  \n",
       "18                                           0  \n",
       "19                                           0  "
      ]
     },
     "execution_count": 78,
     "metadata": {},
     "output_type": "execute_result"
    }
   ],
   "source": [
    "from sklearn import preprocessing\n",
    "le1 = preprocessing.LabelEncoder()\n",
    "le2 = preprocessing.LabelEncoder()\n",
    "le3 = preprocessing.LabelEncoder()\n",
    "le4 = preprocessing.LabelEncoder()\n",
    "le5 = preprocessing.LabelEncoder()\n",
    "le6 = preprocessing.LabelEncoder()\n",
    "le7 = preprocessing.LabelEncoder()\n",
    "data['Occurrence of nausea'] = le1.fit_transform(data['Occurrence of nausea'].astype(str)) \n",
    "data['Lumbar pain'] = le2.fit_transform(data['Lumbar pain'].astype(str))\n",
    "data['Urine pushing'] = le3.fit_transform(data['Urine pushing'].astype(str))\n",
    "data['Micturition pains'] = le4.fit_transform(data['Micturition pains'].astype(str)) \n",
    "data['Burning of urethra'] = le5.fit_transform(data['Burning of urethra'].astype(str))\n",
    "data['decision: Inflammation of urinary bladder'] = le6.fit_transform(data['decision: Inflammation of urinary bladder'].astype(str))\n",
    "data['decision: Nephritis of renal pelvis origin'] = le7.fit_transform(data['decision: Nephritis of renal pelvis origin'].astype(str))\n",
    "data.head(20)"
   ]
  },
  {
   "cell_type": "code",
   "execution_count": 7,
   "metadata": {
    "colab": {
     "base_uri": "https://localhost:8080/",
     "height": 223
    },
    "id": "_BzKjEh_TGpi",
    "outputId": "620137a6-28c8-448d-a9c6-2206c7f28756"
   },
   "outputs": [
    {
     "data": {
      "text/html": [
       "<div>\n",
       "<style scoped>\n",
       "    .dataframe tbody tr th:only-of-type {\n",
       "        vertical-align: middle;\n",
       "    }\n",
       "\n",
       "    .dataframe tbody tr th {\n",
       "        vertical-align: top;\n",
       "    }\n",
       "\n",
       "    .dataframe thead th {\n",
       "        text-align: right;\n",
       "    }\n",
       "</style>\n",
       "<table border=\"1\" class=\"dataframe\">\n",
       "  <thead>\n",
       "    <tr style=\"text-align: right;\">\n",
       "      <th></th>\n",
       "      <th>Temperature of patient</th>\n",
       "      <th>Occurrence of nausea</th>\n",
       "      <th>Lumbar pain</th>\n",
       "      <th>Urine pushing</th>\n",
       "      <th>Micturition pains</th>\n",
       "      <th>Burning of urethra</th>\n",
       "      <th>decision: Inflammation of urinary bladder</th>\n",
       "      <th>decision: Nephritis of renal pelvis origin</th>\n",
       "    </tr>\n",
       "  </thead>\n",
       "  <tbody>\n",
       "    <tr>\n",
       "      <th>0</th>\n",
       "      <td>35.5</td>\n",
       "      <td>0</td>\n",
       "      <td>1</td>\n",
       "      <td>0</td>\n",
       "      <td>0</td>\n",
       "      <td>0</td>\n",
       "      <td>0</td>\n",
       "      <td>0</td>\n",
       "    </tr>\n",
       "    <tr>\n",
       "      <th>1</th>\n",
       "      <td>35.9</td>\n",
       "      <td>0</td>\n",
       "      <td>0</td>\n",
       "      <td>1</td>\n",
       "      <td>1</td>\n",
       "      <td>1</td>\n",
       "      <td>1</td>\n",
       "      <td>0</td>\n",
       "    </tr>\n",
       "    <tr>\n",
       "      <th>2</th>\n",
       "      <td>35.9</td>\n",
       "      <td>0</td>\n",
       "      <td>1</td>\n",
       "      <td>0</td>\n",
       "      <td>0</td>\n",
       "      <td>0</td>\n",
       "      <td>0</td>\n",
       "      <td>0</td>\n",
       "    </tr>\n",
       "    <tr>\n",
       "      <th>3</th>\n",
       "      <td>36.0</td>\n",
       "      <td>0</td>\n",
       "      <td>0</td>\n",
       "      <td>1</td>\n",
       "      <td>1</td>\n",
       "      <td>1</td>\n",
       "      <td>1</td>\n",
       "      <td>0</td>\n",
       "    </tr>\n",
       "    <tr>\n",
       "      <th>4</th>\n",
       "      <td>36.0</td>\n",
       "      <td>0</td>\n",
       "      <td>1</td>\n",
       "      <td>0</td>\n",
       "      <td>0</td>\n",
       "      <td>0</td>\n",
       "      <td>0</td>\n",
       "      <td>0</td>\n",
       "    </tr>\n",
       "  </tbody>\n",
       "</table>\n",
       "</div>"
      ],
      "text/plain": [
       "   Temperature of patient  Occurrence of nausea  Lumbar pain  Urine pushing  \\\n",
       "0                    35.5                     0            1              0   \n",
       "1                    35.9                     0            0              1   \n",
       "2                    35.9                     0            1              0   \n",
       "3                    36.0                     0            0              1   \n",
       "4                    36.0                     0            1              0   \n",
       "\n",
       "   Micturition pains  Burning of urethra  \\\n",
       "0                  0                   0   \n",
       "1                  1                   1   \n",
       "2                  0                   0   \n",
       "3                  1                   1   \n",
       "4                  0                   0   \n",
       "\n",
       "   decision: Inflammation of urinary bladder  \\\n",
       "0                                          0   \n",
       "1                                          1   \n",
       "2                                          0   \n",
       "3                                          1   \n",
       "4                                          0   \n",
       "\n",
       "   decision: Nephritis of renal pelvis origin  \n",
       "0                                           0  \n",
       "1                                           0  \n",
       "2                                           0  \n",
       "3                                           0  \n",
       "4                                           0  "
      ]
     },
     "execution_count": 7,
     "metadata": {},
     "output_type": "execute_result"
    }
   ],
   "source": [
    "data.head()"
   ]
  },
  {
   "cell_type": "code",
   "execution_count": 8,
   "metadata": {
    "colab": {
     "base_uri": "https://localhost:8080/"
    },
    "id": "KfJzSjFYSX35",
    "outputId": "4c698793-dca6-4856-bed4-30199a33c916"
   },
   "outputs": [
    {
     "data": {
      "text/plain": [
       "Temperature of patient                        0\n",
       "Occurrence of nausea                          0\n",
       "Lumbar pain                                   0\n",
       "Urine pushing                                 0\n",
       "Micturition pains                             0\n",
       "Burning of urethra                            0\n",
       "decision: Inflammation of urinary bladder     0\n",
       "decision: Nephritis of renal pelvis origin    0\n",
       "dtype: int64"
      ]
     },
     "execution_count": 8,
     "metadata": {},
     "output_type": "execute_result"
    }
   ],
   "source": [
    "data.isnull().sum()"
   ]
  },
  {
   "cell_type": "code",
   "execution_count": 9,
   "metadata": {
    "id": "8hQL9bSpSgzg"
   },
   "outputs": [],
   "source": [
    "sc = StandardScaler()"
   ]
  },
  {
   "cell_type": "code",
   "execution_count": 10,
   "metadata": {
    "id": "f7-iE6YgSwd5"
   },
   "outputs": [],
   "source": [
    "credit_df=data"
   ]
  },
  {
   "cell_type": "code",
   "execution_count": 11,
   "metadata": {
    "id": "jn9bVApiSzaB"
   },
   "outputs": [],
   "source": [
    "df1=credit_df[credit_df['decision: Nephritis of renal pelvis origin']==0]\n",
    "df2=credit_df[credit_df['decision: Nephritis of renal pelvis origin']==1]\n",
    "frame=[df1,df2]\n",
    "data=pd.concat(frame)\n"
   ]
  },
  {
   "cell_type": "code",
   "execution_count": 12,
   "metadata": {
    "colab": {
     "base_uri": "https://localhost:8080/"
    },
    "id": "Qcs_brKiTaAy",
    "outputId": "ac051272-d152-4603-a4b6-54b9860ab14b"
   },
   "outputs": [
    {
     "data": {
      "text/plain": [
       "0    70\n",
       "1    50\n",
       "Name: decision: Nephritis of renal pelvis origin, dtype: int64"
      ]
     },
     "execution_count": 12,
     "metadata": {},
     "output_type": "execute_result"
    }
   ],
   "source": [
    "data['decision: Nephritis of renal pelvis origin'].value_counts()"
   ]
  },
  {
   "cell_type": "code",
   "execution_count": 79,
   "metadata": {
    "colab": {
     "base_uri": "https://localhost:8080/",
     "height": 223
    },
    "id": "4NVNJZAK0QDD",
    "outputId": "c7789237-fa2e-44ee-af9d-076f2c790e91"
   },
   "outputs": [
    {
     "data": {
      "text/html": [
       "<div>\n",
       "<style scoped>\n",
       "    .dataframe tbody tr th:only-of-type {\n",
       "        vertical-align: middle;\n",
       "    }\n",
       "\n",
       "    .dataframe tbody tr th {\n",
       "        vertical-align: top;\n",
       "    }\n",
       "\n",
       "    .dataframe thead th {\n",
       "        text-align: right;\n",
       "    }\n",
       "</style>\n",
       "<table border=\"1\" class=\"dataframe\">\n",
       "  <thead>\n",
       "    <tr style=\"text-align: right;\">\n",
       "      <th></th>\n",
       "      <th>Temperature of patient</th>\n",
       "      <th>Occurrence of nausea</th>\n",
       "      <th>Lumbar pain</th>\n",
       "      <th>Urine pushing</th>\n",
       "      <th>Micturition pains</th>\n",
       "      <th>Burning of urethra</th>\n",
       "      <th>decision: Inflammation of urinary bladder</th>\n",
       "      <th>decision: Nephritis of renal pelvis origin</th>\n",
       "    </tr>\n",
       "  </thead>\n",
       "  <tbody>\n",
       "    <tr>\n",
       "      <th>0</th>\n",
       "      <td>35.5</td>\n",
       "      <td>0</td>\n",
       "      <td>1</td>\n",
       "      <td>0</td>\n",
       "      <td>0</td>\n",
       "      <td>0</td>\n",
       "      <td>0</td>\n",
       "      <td>0</td>\n",
       "    </tr>\n",
       "    <tr>\n",
       "      <th>1</th>\n",
       "      <td>35.9</td>\n",
       "      <td>0</td>\n",
       "      <td>0</td>\n",
       "      <td>1</td>\n",
       "      <td>1</td>\n",
       "      <td>1</td>\n",
       "      <td>1</td>\n",
       "      <td>0</td>\n",
       "    </tr>\n",
       "    <tr>\n",
       "      <th>2</th>\n",
       "      <td>35.9</td>\n",
       "      <td>0</td>\n",
       "      <td>1</td>\n",
       "      <td>0</td>\n",
       "      <td>0</td>\n",
       "      <td>0</td>\n",
       "      <td>0</td>\n",
       "      <td>0</td>\n",
       "    </tr>\n",
       "    <tr>\n",
       "      <th>3</th>\n",
       "      <td>36.0</td>\n",
       "      <td>0</td>\n",
       "      <td>0</td>\n",
       "      <td>1</td>\n",
       "      <td>1</td>\n",
       "      <td>1</td>\n",
       "      <td>1</td>\n",
       "      <td>0</td>\n",
       "    </tr>\n",
       "    <tr>\n",
       "      <th>4</th>\n",
       "      <td>36.0</td>\n",
       "      <td>0</td>\n",
       "      <td>1</td>\n",
       "      <td>0</td>\n",
       "      <td>0</td>\n",
       "      <td>0</td>\n",
       "      <td>0</td>\n",
       "      <td>0</td>\n",
       "    </tr>\n",
       "    <tr>\n",
       "      <th>5</th>\n",
       "      <td>36.0</td>\n",
       "      <td>0</td>\n",
       "      <td>1</td>\n",
       "      <td>0</td>\n",
       "      <td>0</td>\n",
       "      <td>0</td>\n",
       "      <td>0</td>\n",
       "      <td>0</td>\n",
       "    </tr>\n",
       "    <tr>\n",
       "      <th>6</th>\n",
       "      <td>36.2</td>\n",
       "      <td>0</td>\n",
       "      <td>0</td>\n",
       "      <td>1</td>\n",
       "      <td>1</td>\n",
       "      <td>1</td>\n",
       "      <td>1</td>\n",
       "      <td>0</td>\n",
       "    </tr>\n",
       "    <tr>\n",
       "      <th>7</th>\n",
       "      <td>36.2</td>\n",
       "      <td>0</td>\n",
       "      <td>1</td>\n",
       "      <td>0</td>\n",
       "      <td>0</td>\n",
       "      <td>0</td>\n",
       "      <td>0</td>\n",
       "      <td>0</td>\n",
       "    </tr>\n",
       "    <tr>\n",
       "      <th>8</th>\n",
       "      <td>36.3</td>\n",
       "      <td>0</td>\n",
       "      <td>0</td>\n",
       "      <td>1</td>\n",
       "      <td>1</td>\n",
       "      <td>1</td>\n",
       "      <td>1</td>\n",
       "      <td>0</td>\n",
       "    </tr>\n",
       "    <tr>\n",
       "      <th>9</th>\n",
       "      <td>36.6</td>\n",
       "      <td>0</td>\n",
       "      <td>0</td>\n",
       "      <td>1</td>\n",
       "      <td>1</td>\n",
       "      <td>1</td>\n",
       "      <td>1</td>\n",
       "      <td>0</td>\n",
       "    </tr>\n",
       "    <tr>\n",
       "      <th>10</th>\n",
       "      <td>36.6</td>\n",
       "      <td>0</td>\n",
       "      <td>0</td>\n",
       "      <td>1</td>\n",
       "      <td>1</td>\n",
       "      <td>1</td>\n",
       "      <td>1</td>\n",
       "      <td>0</td>\n",
       "    </tr>\n",
       "    <tr>\n",
       "      <th>11</th>\n",
       "      <td>36.6</td>\n",
       "      <td>0</td>\n",
       "      <td>1</td>\n",
       "      <td>0</td>\n",
       "      <td>0</td>\n",
       "      <td>0</td>\n",
       "      <td>0</td>\n",
       "      <td>0</td>\n",
       "    </tr>\n",
       "    <tr>\n",
       "      <th>12</th>\n",
       "      <td>36.6</td>\n",
       "      <td>0</td>\n",
       "      <td>1</td>\n",
       "      <td>0</td>\n",
       "      <td>0</td>\n",
       "      <td>0</td>\n",
       "      <td>0</td>\n",
       "      <td>0</td>\n",
       "    </tr>\n",
       "    <tr>\n",
       "      <th>13</th>\n",
       "      <td>36.7</td>\n",
       "      <td>0</td>\n",
       "      <td>0</td>\n",
       "      <td>1</td>\n",
       "      <td>1</td>\n",
       "      <td>1</td>\n",
       "      <td>1</td>\n",
       "      <td>0</td>\n",
       "    </tr>\n",
       "    <tr>\n",
       "      <th>14</th>\n",
       "      <td>36.7</td>\n",
       "      <td>0</td>\n",
       "      <td>1</td>\n",
       "      <td>0</td>\n",
       "      <td>0</td>\n",
       "      <td>0</td>\n",
       "      <td>0</td>\n",
       "      <td>0</td>\n",
       "    </tr>\n",
       "    <tr>\n",
       "      <th>15</th>\n",
       "      <td>36.7</td>\n",
       "      <td>0</td>\n",
       "      <td>1</td>\n",
       "      <td>0</td>\n",
       "      <td>0</td>\n",
       "      <td>0</td>\n",
       "      <td>0</td>\n",
       "      <td>0</td>\n",
       "    </tr>\n",
       "    <tr>\n",
       "      <th>16</th>\n",
       "      <td>36.8</td>\n",
       "      <td>0</td>\n",
       "      <td>0</td>\n",
       "      <td>1</td>\n",
       "      <td>1</td>\n",
       "      <td>1</td>\n",
       "      <td>1</td>\n",
       "      <td>0</td>\n",
       "    </tr>\n",
       "    <tr>\n",
       "      <th>17</th>\n",
       "      <td>36.8</td>\n",
       "      <td>0</td>\n",
       "      <td>0</td>\n",
       "      <td>1</td>\n",
       "      <td>1</td>\n",
       "      <td>1</td>\n",
       "      <td>1</td>\n",
       "      <td>0</td>\n",
       "    </tr>\n",
       "    <tr>\n",
       "      <th>18</th>\n",
       "      <td>36.9</td>\n",
       "      <td>0</td>\n",
       "      <td>0</td>\n",
       "      <td>1</td>\n",
       "      <td>1</td>\n",
       "      <td>1</td>\n",
       "      <td>1</td>\n",
       "      <td>0</td>\n",
       "    </tr>\n",
       "    <tr>\n",
       "      <th>19</th>\n",
       "      <td>36.9</td>\n",
       "      <td>0</td>\n",
       "      <td>1</td>\n",
       "      <td>0</td>\n",
       "      <td>0</td>\n",
       "      <td>0</td>\n",
       "      <td>0</td>\n",
       "      <td>0</td>\n",
       "    </tr>\n",
       "  </tbody>\n",
       "</table>\n",
       "</div>"
      ],
      "text/plain": [
       "    Temperature of patient  Occurrence of nausea  Lumbar pain  Urine pushing  \\\n",
       "0                     35.5                     0            1              0   \n",
       "1                     35.9                     0            0              1   \n",
       "2                     35.9                     0            1              0   \n",
       "3                     36.0                     0            0              1   \n",
       "4                     36.0                     0            1              0   \n",
       "5                     36.0                     0            1              0   \n",
       "6                     36.2                     0            0              1   \n",
       "7                     36.2                     0            1              0   \n",
       "8                     36.3                     0            0              1   \n",
       "9                     36.6                     0            0              1   \n",
       "10                    36.6                     0            0              1   \n",
       "11                    36.6                     0            1              0   \n",
       "12                    36.6                     0            1              0   \n",
       "13                    36.7                     0            0              1   \n",
       "14                    36.7                     0            1              0   \n",
       "15                    36.7                     0            1              0   \n",
       "16                    36.8                     0            0              1   \n",
       "17                    36.8                     0            0              1   \n",
       "18                    36.9                     0            0              1   \n",
       "19                    36.9                     0            1              0   \n",
       "\n",
       "    Micturition pains  Burning of urethra  \\\n",
       "0                   0                   0   \n",
       "1                   1                   1   \n",
       "2                   0                   0   \n",
       "3                   1                   1   \n",
       "4                   0                   0   \n",
       "5                   0                   0   \n",
       "6                   1                   1   \n",
       "7                   0                   0   \n",
       "8                   1                   1   \n",
       "9                   1                   1   \n",
       "10                  1                   1   \n",
       "11                  0                   0   \n",
       "12                  0                   0   \n",
       "13                  1                   1   \n",
       "14                  0                   0   \n",
       "15                  0                   0   \n",
       "16                  1                   1   \n",
       "17                  1                   1   \n",
       "18                  1                   1   \n",
       "19                  0                   0   \n",
       "\n",
       "    decision: Inflammation of urinary bladder  \\\n",
       "0                                           0   \n",
       "1                                           1   \n",
       "2                                           0   \n",
       "3                                           1   \n",
       "4                                           0   \n",
       "5                                           0   \n",
       "6                                           1   \n",
       "7                                           0   \n",
       "8                                           1   \n",
       "9                                           1   \n",
       "10                                          1   \n",
       "11                                          0   \n",
       "12                                          0   \n",
       "13                                          1   \n",
       "14                                          0   \n",
       "15                                          0   \n",
       "16                                          1   \n",
       "17                                          1   \n",
       "18                                          1   \n",
       "19                                          0   \n",
       "\n",
       "    decision: Nephritis of renal pelvis origin  \n",
       "0                                            0  \n",
       "1                                            0  \n",
       "2                                            0  \n",
       "3                                            0  \n",
       "4                                            0  \n",
       "5                                            0  \n",
       "6                                            0  \n",
       "7                                            0  \n",
       "8                                            0  \n",
       "9                                            0  \n",
       "10                                           0  \n",
       "11                                           0  \n",
       "12                                           0  \n",
       "13                                           0  \n",
       "14                                           0  \n",
       "15                                           0  \n",
       "16                                           0  \n",
       "17                                           0  \n",
       "18                                           0  \n",
       "19                                           0  "
      ]
     },
     "execution_count": 79,
     "metadata": {},
     "output_type": "execute_result"
    }
   ],
   "source": [
    "data.head(20)"
   ]
  },
  {
   "cell_type": "code",
   "execution_count": 83,
   "metadata": {
    "id": "84r-U8Ayt5mV"
   },
   "outputs": [
    {
     "data": {
      "text/html": [
       "<div>\n",
       "<style scoped>\n",
       "    .dataframe tbody tr th:only-of-type {\n",
       "        vertical-align: middle;\n",
       "    }\n",
       "\n",
       "    .dataframe tbody tr th {\n",
       "        vertical-align: top;\n",
       "    }\n",
       "\n",
       "    .dataframe thead th {\n",
       "        text-align: right;\n",
       "    }\n",
       "</style>\n",
       "<table border=\"1\" class=\"dataframe\">\n",
       "  <thead>\n",
       "    <tr style=\"text-align: right;\">\n",
       "      <th></th>\n",
       "      <th>Temperature of patient</th>\n",
       "      <th>Occurrence of nausea</th>\n",
       "      <th>Lumbar pain</th>\n",
       "      <th>Urine pushing</th>\n",
       "      <th>Micturition pains</th>\n",
       "      <th>Burning of urethra</th>\n",
       "      <th>decision: Inflammation of urinary bladder</th>\n",
       "    </tr>\n",
       "  </thead>\n",
       "  <tbody>\n",
       "    <tr>\n",
       "      <th>0</th>\n",
       "      <td>35.5</td>\n",
       "      <td>0</td>\n",
       "      <td>1</td>\n",
       "      <td>0</td>\n",
       "      <td>0</td>\n",
       "      <td>0</td>\n",
       "      <td>0</td>\n",
       "    </tr>\n",
       "    <tr>\n",
       "      <th>1</th>\n",
       "      <td>35.9</td>\n",
       "      <td>0</td>\n",
       "      <td>0</td>\n",
       "      <td>1</td>\n",
       "      <td>1</td>\n",
       "      <td>1</td>\n",
       "      <td>1</td>\n",
       "    </tr>\n",
       "    <tr>\n",
       "      <th>2</th>\n",
       "      <td>35.9</td>\n",
       "      <td>0</td>\n",
       "      <td>1</td>\n",
       "      <td>0</td>\n",
       "      <td>0</td>\n",
       "      <td>0</td>\n",
       "      <td>0</td>\n",
       "    </tr>\n",
       "    <tr>\n",
       "      <th>3</th>\n",
       "      <td>36.0</td>\n",
       "      <td>0</td>\n",
       "      <td>0</td>\n",
       "      <td>1</td>\n",
       "      <td>1</td>\n",
       "      <td>1</td>\n",
       "      <td>1</td>\n",
       "    </tr>\n",
       "    <tr>\n",
       "      <th>4</th>\n",
       "      <td>36.0</td>\n",
       "      <td>0</td>\n",
       "      <td>1</td>\n",
       "      <td>0</td>\n",
       "      <td>0</td>\n",
       "      <td>0</td>\n",
       "      <td>0</td>\n",
       "    </tr>\n",
       "    <tr>\n",
       "      <th>5</th>\n",
       "      <td>36.0</td>\n",
       "      <td>0</td>\n",
       "      <td>1</td>\n",
       "      <td>0</td>\n",
       "      <td>0</td>\n",
       "      <td>0</td>\n",
       "      <td>0</td>\n",
       "    </tr>\n",
       "    <tr>\n",
       "      <th>6</th>\n",
       "      <td>36.2</td>\n",
       "      <td>0</td>\n",
       "      <td>0</td>\n",
       "      <td>1</td>\n",
       "      <td>1</td>\n",
       "      <td>1</td>\n",
       "      <td>1</td>\n",
       "    </tr>\n",
       "    <tr>\n",
       "      <th>7</th>\n",
       "      <td>36.2</td>\n",
       "      <td>0</td>\n",
       "      <td>1</td>\n",
       "      <td>0</td>\n",
       "      <td>0</td>\n",
       "      <td>0</td>\n",
       "      <td>0</td>\n",
       "    </tr>\n",
       "    <tr>\n",
       "      <th>8</th>\n",
       "      <td>36.3</td>\n",
       "      <td>0</td>\n",
       "      <td>0</td>\n",
       "      <td>1</td>\n",
       "      <td>1</td>\n",
       "      <td>1</td>\n",
       "      <td>1</td>\n",
       "    </tr>\n",
       "    <tr>\n",
       "      <th>9</th>\n",
       "      <td>36.6</td>\n",
       "      <td>0</td>\n",
       "      <td>0</td>\n",
       "      <td>1</td>\n",
       "      <td>1</td>\n",
       "      <td>1</td>\n",
       "      <td>1</td>\n",
       "    </tr>\n",
       "    <tr>\n",
       "      <th>10</th>\n",
       "      <td>36.6</td>\n",
       "      <td>0</td>\n",
       "      <td>0</td>\n",
       "      <td>1</td>\n",
       "      <td>1</td>\n",
       "      <td>1</td>\n",
       "      <td>1</td>\n",
       "    </tr>\n",
       "    <tr>\n",
       "      <th>11</th>\n",
       "      <td>36.6</td>\n",
       "      <td>0</td>\n",
       "      <td>1</td>\n",
       "      <td>0</td>\n",
       "      <td>0</td>\n",
       "      <td>0</td>\n",
       "      <td>0</td>\n",
       "    </tr>\n",
       "    <tr>\n",
       "      <th>12</th>\n",
       "      <td>36.6</td>\n",
       "      <td>0</td>\n",
       "      <td>1</td>\n",
       "      <td>0</td>\n",
       "      <td>0</td>\n",
       "      <td>0</td>\n",
       "      <td>0</td>\n",
       "    </tr>\n",
       "    <tr>\n",
       "      <th>13</th>\n",
       "      <td>36.7</td>\n",
       "      <td>0</td>\n",
       "      <td>0</td>\n",
       "      <td>1</td>\n",
       "      <td>1</td>\n",
       "      <td>1</td>\n",
       "      <td>1</td>\n",
       "    </tr>\n",
       "    <tr>\n",
       "      <th>14</th>\n",
       "      <td>36.7</td>\n",
       "      <td>0</td>\n",
       "      <td>1</td>\n",
       "      <td>0</td>\n",
       "      <td>0</td>\n",
       "      <td>0</td>\n",
       "      <td>0</td>\n",
       "    </tr>\n",
       "    <tr>\n",
       "      <th>15</th>\n",
       "      <td>36.7</td>\n",
       "      <td>0</td>\n",
       "      <td>1</td>\n",
       "      <td>0</td>\n",
       "      <td>0</td>\n",
       "      <td>0</td>\n",
       "      <td>0</td>\n",
       "    </tr>\n",
       "    <tr>\n",
       "      <th>16</th>\n",
       "      <td>36.8</td>\n",
       "      <td>0</td>\n",
       "      <td>0</td>\n",
       "      <td>1</td>\n",
       "      <td>1</td>\n",
       "      <td>1</td>\n",
       "      <td>1</td>\n",
       "    </tr>\n",
       "    <tr>\n",
       "      <th>17</th>\n",
       "      <td>36.8</td>\n",
       "      <td>0</td>\n",
       "      <td>0</td>\n",
       "      <td>1</td>\n",
       "      <td>1</td>\n",
       "      <td>1</td>\n",
       "      <td>1</td>\n",
       "    </tr>\n",
       "    <tr>\n",
       "      <th>18</th>\n",
       "      <td>36.9</td>\n",
       "      <td>0</td>\n",
       "      <td>0</td>\n",
       "      <td>1</td>\n",
       "      <td>1</td>\n",
       "      <td>1</td>\n",
       "      <td>1</td>\n",
       "    </tr>\n",
       "    <tr>\n",
       "      <th>19</th>\n",
       "      <td>36.9</td>\n",
       "      <td>0</td>\n",
       "      <td>1</td>\n",
       "      <td>0</td>\n",
       "      <td>0</td>\n",
       "      <td>0</td>\n",
       "      <td>0</td>\n",
       "    </tr>\n",
       "  </tbody>\n",
       "</table>\n",
       "</div>"
      ],
      "text/plain": [
       "    Temperature of patient  Occurrence of nausea  Lumbar pain  Urine pushing  \\\n",
       "0                     35.5                     0            1              0   \n",
       "1                     35.9                     0            0              1   \n",
       "2                     35.9                     0            1              0   \n",
       "3                     36.0                     0            0              1   \n",
       "4                     36.0                     0            1              0   \n",
       "5                     36.0                     0            1              0   \n",
       "6                     36.2                     0            0              1   \n",
       "7                     36.2                     0            1              0   \n",
       "8                     36.3                     0            0              1   \n",
       "9                     36.6                     0            0              1   \n",
       "10                    36.6                     0            0              1   \n",
       "11                    36.6                     0            1              0   \n",
       "12                    36.6                     0            1              0   \n",
       "13                    36.7                     0            0              1   \n",
       "14                    36.7                     0            1              0   \n",
       "15                    36.7                     0            1              0   \n",
       "16                    36.8                     0            0              1   \n",
       "17                    36.8                     0            0              1   \n",
       "18                    36.9                     0            0              1   \n",
       "19                    36.9                     0            1              0   \n",
       "\n",
       "    Micturition pains  Burning of urethra  \\\n",
       "0                   0                   0   \n",
       "1                   1                   1   \n",
       "2                   0                   0   \n",
       "3                   1                   1   \n",
       "4                   0                   0   \n",
       "5                   0                   0   \n",
       "6                   1                   1   \n",
       "7                   0                   0   \n",
       "8                   1                   1   \n",
       "9                   1                   1   \n",
       "10                  1                   1   \n",
       "11                  0                   0   \n",
       "12                  0                   0   \n",
       "13                  1                   1   \n",
       "14                  0                   0   \n",
       "15                  0                   0   \n",
       "16                  1                   1   \n",
       "17                  1                   1   \n",
       "18                  1                   1   \n",
       "19                  0                   0   \n",
       "\n",
       "    decision: Inflammation of urinary bladder  \n",
       "0                                           0  \n",
       "1                                           1  \n",
       "2                                           0  \n",
       "3                                           1  \n",
       "4                                           0  \n",
       "5                                           0  \n",
       "6                                           1  \n",
       "7                                           0  \n",
       "8                                           1  \n",
       "9                                           1  \n",
       "10                                          1  \n",
       "11                                          0  \n",
       "12                                          0  \n",
       "13                                          1  \n",
       "14                                          0  \n",
       "15                                          0  \n",
       "16                                          1  \n",
       "17                                          1  \n",
       "18                                          1  \n",
       "19                                          0  "
      ]
     },
     "execution_count": 83,
     "metadata": {},
     "output_type": "execute_result"
    }
   ],
   "source": [
    "X = data.loc[:, [\"Temperature of patient\", \"Occurrence of nausea\", \"Lumbar pain\", \"Urine pushing\", \"Micturition pains\", \"Burning of urethra\", \"decision: Inflammation of urinary bladder\"]]\n",
    "y = data.loc[:, [\"decision: Nephritis of renal pelvis origin\"]]\n",
    "X[:20]"
   ]
  },
  {
   "cell_type": "code",
   "execution_count": 85,
   "metadata": {},
   "outputs": [
    {
     "data": {
      "text/html": [
       "<div>\n",
       "<style scoped>\n",
       "    .dataframe tbody tr th:only-of-type {\n",
       "        vertical-align: middle;\n",
       "    }\n",
       "\n",
       "    .dataframe tbody tr th {\n",
       "        vertical-align: top;\n",
       "    }\n",
       "\n",
       "    .dataframe thead th {\n",
       "        text-align: right;\n",
       "    }\n",
       "</style>\n",
       "<table border=\"1\" class=\"dataframe\">\n",
       "  <thead>\n",
       "    <tr style=\"text-align: right;\">\n",
       "      <th></th>\n",
       "      <th>decision: Nephritis of renal pelvis origin</th>\n",
       "    </tr>\n",
       "  </thead>\n",
       "  <tbody>\n",
       "    <tr>\n",
       "      <th>0</th>\n",
       "      <td>0</td>\n",
       "    </tr>\n",
       "    <tr>\n",
       "      <th>1</th>\n",
       "      <td>0</td>\n",
       "    </tr>\n",
       "    <tr>\n",
       "      <th>2</th>\n",
       "      <td>0</td>\n",
       "    </tr>\n",
       "    <tr>\n",
       "      <th>3</th>\n",
       "      <td>0</td>\n",
       "    </tr>\n",
       "    <tr>\n",
       "      <th>4</th>\n",
       "      <td>0</td>\n",
       "    </tr>\n",
       "    <tr>\n",
       "      <th>5</th>\n",
       "      <td>0</td>\n",
       "    </tr>\n",
       "    <tr>\n",
       "      <th>6</th>\n",
       "      <td>0</td>\n",
       "    </tr>\n",
       "    <tr>\n",
       "      <th>7</th>\n",
       "      <td>0</td>\n",
       "    </tr>\n",
       "    <tr>\n",
       "      <th>8</th>\n",
       "      <td>0</td>\n",
       "    </tr>\n",
       "    <tr>\n",
       "      <th>9</th>\n",
       "      <td>0</td>\n",
       "    </tr>\n",
       "    <tr>\n",
       "      <th>10</th>\n",
       "      <td>0</td>\n",
       "    </tr>\n",
       "    <tr>\n",
       "      <th>11</th>\n",
       "      <td>0</td>\n",
       "    </tr>\n",
       "    <tr>\n",
       "      <th>12</th>\n",
       "      <td>0</td>\n",
       "    </tr>\n",
       "    <tr>\n",
       "      <th>13</th>\n",
       "      <td>0</td>\n",
       "    </tr>\n",
       "    <tr>\n",
       "      <th>14</th>\n",
       "      <td>0</td>\n",
       "    </tr>\n",
       "    <tr>\n",
       "      <th>15</th>\n",
       "      <td>0</td>\n",
       "    </tr>\n",
       "    <tr>\n",
       "      <th>16</th>\n",
       "      <td>0</td>\n",
       "    </tr>\n",
       "    <tr>\n",
       "      <th>17</th>\n",
       "      <td>0</td>\n",
       "    </tr>\n",
       "    <tr>\n",
       "      <th>18</th>\n",
       "      <td>0</td>\n",
       "    </tr>\n",
       "    <tr>\n",
       "      <th>19</th>\n",
       "      <td>0</td>\n",
       "    </tr>\n",
       "  </tbody>\n",
       "</table>\n",
       "</div>"
      ],
      "text/plain": [
       "    decision: Nephritis of renal pelvis origin\n",
       "0                                            0\n",
       "1                                            0\n",
       "2                                            0\n",
       "3                                            0\n",
       "4                                            0\n",
       "5                                            0\n",
       "6                                            0\n",
       "7                                            0\n",
       "8                                            0\n",
       "9                                            0\n",
       "10                                           0\n",
       "11                                           0\n",
       "12                                           0\n",
       "13                                           0\n",
       "14                                           0\n",
       "15                                           0\n",
       "16                                           0\n",
       "17                                           0\n",
       "18                                           0\n",
       "19                                           0"
      ]
     },
     "execution_count": 85,
     "metadata": {},
     "output_type": "execute_result"
    }
   ],
   "source": [
    "y[:20]"
   ]
  },
  {
   "cell_type": "code",
   "execution_count": 16,
   "metadata": {
    "id": "HSEsKCjQTvF6"
   },
   "outputs": [],
   "source": [
    "from sklearn.model_selection import train_test_split"
   ]
  },
  {
   "cell_type": "code",
   "execution_count": 17,
   "metadata": {
    "id": "8svqyBYE2tKo"
   },
   "outputs": [],
   "source": [
    "from sklearn.model_selection import train_test_split\n",
    "X_train, X_test, y_train, y_test = train_test_split(X, y, test_size=0.3, random_state=42)"
   ]
  },
  {
   "cell_type": "code",
   "execution_count": 18,
   "metadata": {
    "id": "mN2-nd5kUXiH"
   },
   "outputs": [
    {
     "data": {
      "text/plain": [
       "array([[-0.58991804, -0.4472136 , -1.18321596,  0.75180941, -0.89442719,\n",
       "        -0.84515425,  1.18321596],\n",
       "       [-0.53328591, -0.4472136 , -1.18321596,  0.75180941,  1.11803399,\n",
       "         1.18321596,  1.18321596],\n",
       "       [-1.43940002, -0.4472136 ,  0.84515425, -1.33012434, -0.89442719,\n",
       "        -0.84515425, -0.84515425],\n",
       "       [-0.36338951, -0.4472136 , -1.18321596,  0.75180941,  1.11803399,\n",
       "        -0.84515425,  1.18321596],\n",
       "       [-0.8730787 , -0.4472136 , -1.18321596,  0.75180941,  1.11803399,\n",
       "         1.18321596,  1.18321596],\n",
       "       [ 1.16567805, -0.4472136 , -1.18321596, -1.33012434, -0.89442719,\n",
       "        -0.84515425, -0.84515425],\n",
       "       [-0.13686099, -0.4472136 ,  0.84515425,  0.75180941, -0.89442719,\n",
       "         1.18321596, -0.84515425],\n",
       "       [-1.09960723, -0.4472136 , -1.18321596,  0.75180941,  1.11803399,\n",
       "         1.18321596,  1.18321596],\n",
       "       [-0.58991804, -0.4472136 ,  0.84515425, -1.33012434, -0.89442719,\n",
       "        -0.84515425, -0.84515425],\n",
       "       [ 1.39220658, -0.4472136 ,  0.84515425,  0.75180941, -0.89442719,\n",
       "         1.18321596, -0.84515425],\n",
       "       [-0.92971083, -0.4472136 , -1.18321596,  0.75180941,  1.11803399,\n",
       "         1.18321596,  1.18321596],\n",
       "       [ 0.93914952, -0.4472136 , -1.18321596, -1.33012434, -0.89442719,\n",
       "        -0.84515425, -0.84515425],\n",
       "       [-1.09960723, -0.4472136 ,  0.84515425, -1.33012434, -0.89442719,\n",
       "        -0.84515425, -0.84515425],\n",
       "       [-0.70318231, -0.4472136 , -1.18321596,  0.75180941, -0.89442719,\n",
       "        -0.84515425,  1.18321596],\n",
       "       [ 0.99578165, -0.4472136 ,  0.84515425,  0.75180941, -0.89442719,\n",
       "         1.18321596, -0.84515425],\n",
       "       [ 1.05241379,  2.23606798,  0.84515425,  0.75180941,  1.11803399,\n",
       "        -0.84515425,  1.18321596],\n",
       "       [ 1.44883871,  2.23606798,  0.84515425,  0.75180941,  1.11803399,\n",
       "        -0.84515425,  1.18321596],\n",
       "       [-1.72256068, -0.4472136 ,  0.84515425, -1.33012434, -0.89442719,\n",
       "        -0.84515425, -0.84515425],\n",
       "       [ 0.93914952,  2.23606798,  0.84515425, -1.33012434,  1.11803399,\n",
       "        -0.84515425, -0.84515425],\n",
       "       [ 1.33557445, -0.4472136 ,  0.84515425,  0.75180941, -0.89442719,\n",
       "         1.18321596, -0.84515425],\n",
       "       [ 1.22231018, -0.4472136 , -1.18321596, -1.33012434, -0.89442719,\n",
       "        -0.84515425, -0.84515425],\n",
       "       [-0.53328591, -0.4472136 , -1.18321596,  0.75180941,  1.11803399,\n",
       "        -0.84515425,  1.18321596],\n",
       "       [-0.75981444, -0.4472136 , -1.18321596,  0.75180941,  1.11803399,\n",
       "        -0.84515425,  1.18321596],\n",
       "       [-0.30675738, -0.4472136 ,  0.84515425,  0.75180941, -0.89442719,\n",
       "         1.18321596, -0.84515425],\n",
       "       [-0.58991804, -0.4472136 , -1.18321596,  0.75180941,  1.11803399,\n",
       "         1.18321596,  1.18321596],\n",
       "       [-1.09960723, -0.4472136 ,  0.84515425, -1.33012434, -0.89442719,\n",
       "        -0.84515425, -0.84515425],\n",
       "       [-1.0429751 , -0.4472136 ,  0.84515425, -1.33012434, -0.89442719,\n",
       "        -0.84515425, -0.84515425],\n",
       "       [ 1.50547084, -0.4472136 ,  0.84515425,  0.75180941, -0.89442719,\n",
       "         1.18321596, -0.84515425],\n",
       "       [ 0.20293181, -0.4472136 ,  0.84515425,  0.75180941, -0.89442719,\n",
       "         1.18321596, -0.84515425],\n",
       "       [ 1.22231018,  2.23606798,  0.84515425,  0.75180941,  1.11803399,\n",
       "         1.18321596,  1.18321596],\n",
       "       [-0.8730787 , -0.4472136 , -1.18321596,  0.75180941,  1.11803399,\n",
       "         1.18321596,  1.18321596],\n",
       "       [ 0.48609247, -0.4472136 ,  0.84515425,  0.75180941, -0.89442719,\n",
       "         1.18321596, -0.84515425],\n",
       "       [-0.8730787 , -0.4472136 ,  0.84515425, -1.33012434, -0.89442719,\n",
       "        -0.84515425, -0.84515425],\n",
       "       [ 1.16567805,  2.23606798,  0.84515425, -1.33012434,  1.11803399,\n",
       "        -0.84515425, -0.84515425],\n",
       "       [-0.36338951, -0.4472136 , -1.18321596,  0.75180941,  1.11803399,\n",
       "        -0.84515425,  1.18321596],\n",
       "       [ 1.44883871,  2.23606798,  0.84515425, -1.33012434,  1.11803399,\n",
       "        -0.84515425, -0.84515425]])"
      ]
     },
     "execution_count": 18,
     "metadata": {},
     "output_type": "execute_result"
    }
   ],
   "source": [
    "#Scaling the independent features\n",
    "X_train = sc.fit_transform(X_train)\n",
    "X_test = sc.fit_transform(X_test)\n",
    "X_test"
   ]
  },
  {
   "cell_type": "code",
   "execution_count": 19,
   "metadata": {
    "colab": {
     "base_uri": "https://localhost:8080/"
    },
    "id": "VfpKUNYwUfx_",
    "outputId": "ef02c3ce-7ebd-4a4b-f255-a3cd382fcbc7"
   },
   "outputs": [
    {
     "name": "stdout",
     "output_type": "stream",
     "text": [
      "Before OverSampling, counts of label '1': decision: Nephritis of renal pelvis origin    36\n",
      "dtype: int64\n",
      "Before OverSampling, counts of label '0': decision: Nephritis of renal pelvis origin    48\n",
      "dtype: int64\n",
      "After OverSampling, the shape of train_X: (96, 7)\n",
      "After OverSampling, the shape of train_y: (96, 1)\n"
     ]
    },
    {
     "ename": "TypeError",
     "evalue": "unsupported operand type(s) for +: 'int' and 'str'",
     "output_type": "error",
     "traceback": [
      "\u001b[0;31m---------------------------------------------------------------------------\u001b[0m",
      "\u001b[0;31mTypeError\u001b[0m                                 Traceback (most recent call last)",
      "\u001b[0;32m<ipython-input-19-d293e4633d61>\u001b[0m in \u001b[0;36m<module>\u001b[0;34m\u001b[0m\n\u001b[1;32m     13\u001b[0m \u001b[0mprint\u001b[0m\u001b[0;34m(\u001b[0m\u001b[0;34m'After OverSampling, the shape of train_y:'\u001b[0m\u001b[0;34m,\u001b[0m \u001b[0my_train_res\u001b[0m\u001b[0;34m.\u001b[0m\u001b[0mshape\u001b[0m\u001b[0;34m)\u001b[0m\u001b[0;34m\u001b[0m\u001b[0;34m\u001b[0m\u001b[0m\n\u001b[1;32m     14\u001b[0m \u001b[0;34m\u001b[0m\u001b[0m\n\u001b[0;32m---> 15\u001b[0;31m \u001b[0mprint\u001b[0m\u001b[0;34m(\u001b[0m\u001b[0;34m\"After OverSampling, counts of label '1':\"\u001b[0m\u001b[0;34m,\u001b[0m\u001b[0msum\u001b[0m\u001b[0;34m(\u001b[0m\u001b[0my_train_res\u001b[0m \u001b[0;34m==\u001b[0m \u001b[0;36m1\u001b[0m\u001b[0;34m)\u001b[0m\u001b[0;34m)\u001b[0m\u001b[0;34m\u001b[0m\u001b[0;34m\u001b[0m\u001b[0m\n\u001b[0m\u001b[1;32m     16\u001b[0m \u001b[0mprint\u001b[0m\u001b[0;34m(\u001b[0m\u001b[0;34m\"After OverSampling, counts of label '0':\"\u001b[0m\u001b[0;34m,\u001b[0m\u001b[0msum\u001b[0m\u001b[0;34m(\u001b[0m\u001b[0my_train_res\u001b[0m \u001b[0;34m==\u001b[0m \u001b[0;36m0\u001b[0m\u001b[0;34m)\u001b[0m\u001b[0;34m)\u001b[0m\u001b[0;34m\u001b[0m\u001b[0;34m\u001b[0m\u001b[0m\n",
      "\u001b[0;31mTypeError\u001b[0m: unsupported operand type(s) for +: 'int' and 'str'"
     ]
    }
   ],
   "source": [
    "print(\"Before OverSampling, counts of label '1':\",(y_train == 1).sum()) \n",
    "print(\"Before OverSampling, counts of label '0':\",(y_train == 0).sum())\n",
    "  \n",
    "# import SMOTE module from imblearn library \n",
    "# pip install imblearn (if you don't have imblearn in your system) \n",
    "#conda install -c conda-forge imbalanced-learn\n",
    "\n",
    "from imblearn.over_sampling import SMOTE\n",
    "sm = SMOTE(random_state = 2) \n",
    "X_train_res, y_train_res = sm.fit_resample(X_train, y_train) \n",
    "  \n",
    "print('After OverSampling, the shape of train_X:',X_train_res.shape) \n",
    "print('After OverSampling, the shape of train_y:', y_train_res.shape) \n",
    "  \n",
    "print(\"After OverSampling, counts of label '1':\",sum(y_train_res == 1)) \n",
    "print(\"After OverSampling, counts of label '0':\",sum(y_train_res == 0))"
   ]
  },
  {
   "cell_type": "code",
   "execution_count": 20,
   "metadata": {
    "id": "kHtk5qv3UiB8"
   },
   "outputs": [],
   "source": [
    "from sklearn.svm import SVC\n",
    "from sklearn.metrics import accuracy_score\n",
    "from sklearn.metrics import classification_report, confusion_matrix"
   ]
  },
  {
   "cell_type": "code",
   "execution_count": 21,
   "metadata": {
    "id": "Wzc_3Sc-U388"
   },
   "outputs": [],
   "source": [
    "def validation(clf,X_train, y_train):\n",
    "    scores = cross_validate(clf, X_train, y_train,cv=8, return_train_score=True)\n",
    "    return scores"
   ]
  },
  {
   "cell_type": "code",
   "execution_count": 22,
   "metadata": {
    "id": "y5I9E5v-U7Tu"
   },
   "outputs": [],
   "source": [
    "def roc_auc(yTest,y_pred):\n",
    "#     sns.set()\n",
    "    fpr, tpr, thresholds = roc_curve(yTest, y_pred)\n",
    "    roc_auc = auc(fpr,tpr)\n",
    "    plt.title('Receiver Operating Characteristic')\n",
    "    plt.plot(fpr, tpr, 'b',label='AUC = %0.3f'% roc_auc)\n",
    "    plt.legend(loc='lower right')\n",
    "    plt.plot([0,1],[0,1],'r--')\n",
    "    plt.xlim([-0.1,1.0])\n",
    "    plt.ylim([-0.1,1.01])\n",
    "    plt.ylabel('True Positive Rate')\n",
    "    plt.xlabel('False Positive Rate')\n",
    "    plt.show()"
   ]
  },
  {
   "cell_type": "code",
   "execution_count": 23,
   "metadata": {
    "id": "YKpabGshU-9N"
   },
   "outputs": [],
   "source": [
    "model_linear = SVC(kernel='linear', C=0.01)\n",
    "score_1_linear = validation(model_linear, X_train, y_train)\n",
    "model_linear = SVC(kernel='linear', C=0.1)\n",
    "score_2_linear = validation(model_linear, X_train, y_train)\n",
    "model_linear = SVC(kernel='linear', C=0.5)\n",
    "score_3_linear = validation(model_linear, X_train, y_train)\n",
    "model_linear = SVC(kernel='linear', C=1)\n",
    "score_4_linear = validation(model_linear, X_train, y_train)\n",
    "model_linear = SVC(kernel='linear', C=5)\n",
    "score_5_linear = validation(model_linear, X_train, y_train)\n",
    "model_linear = SVC(kernel='linear', C=10)\n",
    "score_6_linear = validation(model_linear, X_train, y_train)"
   ]
  },
  {
   "cell_type": "code",
   "execution_count": 24,
   "metadata": {
    "id": "SIsPLcfAVCz1"
   },
   "outputs": [],
   "source": [
    "score_1_linear=pd.DataFrame.from_dict(score_1_linear)\n",
    "score_2_linear=pd.DataFrame.from_dict(score_2_linear)\n",
    "score_3_linear=pd.DataFrame.from_dict(score_3_linear)\n",
    "score_4_linear=pd.DataFrame.from_dict(score_4_linear)\n",
    "score_5_linear=pd.DataFrame.from_dict(score_5_linear)\n",
    "score_6_linear=pd.DataFrame.from_dict(score_6_linear)"
   ]
  },
  {
   "cell_type": "code",
   "execution_count": 25,
   "metadata": {
    "colab": {
     "base_uri": "https://localhost:8080/"
    },
    "id": "po5LKM3IVGVm",
    "outputId": "b3014fdd-d11e-40eb-b379-b087dca6a567"
   },
   "outputs": [
    {
     "data": {
      "text/plain": [
       "1.0"
      ]
     },
     "execution_count": 25,
     "metadata": {},
     "output_type": "execute_result"
    }
   ],
   "source": [
    "score_5_linear['test_score'].mean()"
   ]
  },
  {
   "cell_type": "code",
   "execution_count": 26,
   "metadata": {
    "id": "qDlysO71VJl9"
   },
   "outputs": [],
   "source": [
    "s1_linear_train=[score_1_linear[['train_score']].mean(axis=0),score_2_linear[['train_score']].mean(axis=0),\n",
    "                score_3_linear[['train_score']].mean(axis=0),score_4_linear[['train_score']].mean(axis=0),\n",
    "                score_5_linear[['train_score']].mean(axis=0),score_6_linear[['train_score']].mean(axis=0)]  \n",
    "\n",
    "s1_linear_test=[score_1_linear[['test_score']].mean(axis=0),score_2_linear[['test_score']].mean(axis=0),\n",
    "                score_3_linear[['test_score']].mean(axis=0),score_4_linear[['test_score']].mean(axis=0),\n",
    "                score_5_linear[['test_score']].mean(axis=0),score_6_linear[['test_score']].mean(axis=0)]"
   ]
  },
  {
   "cell_type": "code",
   "execution_count": 27,
   "metadata": {
    "id": "HYimcqdCVMHF"
   },
   "outputs": [],
   "source": [
    "## Learning curve for Train and Test accuracy for Linear SVM function for various values of C\n",
    "def train_cv_plot(c,s1_linear_train,s1_linear_test):\n",
    "    plt.plot(c,s1_linear_train,label='train',marker='o',markersize=4)\n",
    "    plt.plot(c,s1_linear_test,label='cv',c='r',marker='o',markersize=4)\n",
    "#     plot.set_xlabel(\"C(Regularization Parameter)\", fontsize = 12)\n",
    "    plt.xlabel(\"C(Regularization Parameter)\")\n",
    "    plt.ylabel(\"Accuracy\")\n",
    "#     plot1.set_title('Accuracy', fontsize = 16)\n",
    "    plt.legend(loc='best')\n",
    "    plt.title(\"Train and CrossValidation accuracy for SVM Linear kernel as a function of C\")"
   ]
  },
  {
   "cell_type": "code",
   "execution_count": 28,
   "metadata": {
    "colab": {
     "base_uri": "https://localhost:8080/",
     "height": 295
    },
    "id": "S_O6xztPVP_O",
    "outputId": "21cc4bce-c376-4f78-fd9d-7a2c35dd77cb"
   },
   "outputs": [
    {
     "data": {
      "image/png": "[encoded data removed]",
      "text/plain": [
       "<Figure size 432x288 with 1 Axes>"
      ]
     },
     "metadata": {
      "needs_background": "light"
     },
     "output_type": "display_data"
    }
   ],
   "source": [
    "c=[0.01,0.1,0.5,1,5,10]\n",
    "train_cv_plot(c,s1_linear_train,s1_linear_test)"
   ]
  },
  {
   "cell_type": "code",
   "execution_count": 29,
   "metadata": {
    "id": "KsPpP4lOVU13"
   },
   "outputs": [],
   "source": [
    "# Rbf kernal\n",
    "model_linear = SVC(kernel='rbf', C=0.01)\n",
    "score_1_rbf = validation(model_linear, X_train, y_train)\n",
    "model_linear = SVC(kernel='rbf', C=0.1)\n",
    "score_2_rbf = validation(model_linear, X_train, y_train)\n",
    "model_linear = SVC(kernel='rbf', C=0.5)\n",
    "score_3_rbf = validation(model_linear, X_train, y_train)\n",
    "model_linear = SVC(kernel='rbf', C=1)\n",
    "score_4_rbf = validation(model_linear, X_train, y_train)\n",
    "model_linear = SVC(kernel='rbf', C=5)\n",
    "score_5_rbf = validation(model_linear, X_train, y_train)\n",
    "model_linear = SVC(kernel='rbf', C=50)\n",
    "score_6_rbf = validation(model_linear, X_train, y_train)\n"
   ]
  },
  {
   "cell_type": "code",
   "execution_count": 30,
   "metadata": {
    "id": "Qrm0eNiLVbxY"
   },
   "outputs": [],
   "source": [
    "score_1_rbf=pd.DataFrame.from_dict(score_1_rbf)\n",
    "score_2_rbf=pd.DataFrame.from_dict(score_2_rbf)\n",
    "score_3_rbf=pd.DataFrame.from_dict(score_3_rbf)\n",
    "score_4_rbf=pd.DataFrame.from_dict(score_4_rbf)\n",
    "score_5_rbf=pd.DataFrame.from_dict(score_5_rbf)\n",
    "score_6_rbf=pd.DataFrame.from_dict(score_6_rbf)"
   ]
  },
  {
   "cell_type": "code",
   "execution_count": 31,
   "metadata": {
    "colab": {
     "base_uri": "https://localhost:8080/",
     "height": 299
    },
    "id": "hkwQkFIdVepG",
    "outputId": "d3fa028a-76c5-4144-9715-17766e130f23"
   },
   "outputs": [
    {
     "data": {
      "text/html": [
       "<div>\n",
       "<style scoped>\n",
       "    .dataframe tbody tr th:only-of-type {\n",
       "        vertical-align: middle;\n",
       "    }\n",
       "\n",
       "    .dataframe tbody tr th {\n",
       "        vertical-align: top;\n",
       "    }\n",
       "\n",
       "    .dataframe thead th {\n",
       "        text-align: right;\n",
       "    }\n",
       "</style>\n",
       "<table border=\"1\" class=\"dataframe\">\n",
       "  <thead>\n",
       "    <tr style=\"text-align: right;\">\n",
       "      <th></th>\n",
       "      <th>fit_time</th>\n",
       "      <th>score_time</th>\n",
       "      <th>test_score</th>\n",
       "      <th>train_score</th>\n",
       "    </tr>\n",
       "  </thead>\n",
       "  <tbody>\n",
       "    <tr>\n",
       "      <th>0</th>\n",
       "      <td>0.001261</td>\n",
       "      <td>0.000446</td>\n",
       "      <td>1.0</td>\n",
       "      <td>1.0</td>\n",
       "    </tr>\n",
       "    <tr>\n",
       "      <th>1</th>\n",
       "      <td>0.001187</td>\n",
       "      <td>0.000413</td>\n",
       "      <td>1.0</td>\n",
       "      <td>1.0</td>\n",
       "    </tr>\n",
       "    <tr>\n",
       "      <th>2</th>\n",
       "      <td>0.001044</td>\n",
       "      <td>0.000368</td>\n",
       "      <td>1.0</td>\n",
       "      <td>1.0</td>\n",
       "    </tr>\n",
       "    <tr>\n",
       "      <th>3</th>\n",
       "      <td>0.001040</td>\n",
       "      <td>0.000379</td>\n",
       "      <td>1.0</td>\n",
       "      <td>1.0</td>\n",
       "    </tr>\n",
       "    <tr>\n",
       "      <th>4</th>\n",
       "      <td>0.001049</td>\n",
       "      <td>0.000361</td>\n",
       "      <td>1.0</td>\n",
       "      <td>1.0</td>\n",
       "    </tr>\n",
       "    <tr>\n",
       "      <th>5</th>\n",
       "      <td>0.074789</td>\n",
       "      <td>0.000325</td>\n",
       "      <td>1.0</td>\n",
       "      <td>1.0</td>\n",
       "    </tr>\n",
       "    <tr>\n",
       "      <th>6</th>\n",
       "      <td>0.000858</td>\n",
       "      <td>0.000323</td>\n",
       "      <td>1.0</td>\n",
       "      <td>1.0</td>\n",
       "    </tr>\n",
       "    <tr>\n",
       "      <th>7</th>\n",
       "      <td>0.000750</td>\n",
       "      <td>0.000262</td>\n",
       "      <td>1.0</td>\n",
       "      <td>1.0</td>\n",
       "    </tr>\n",
       "  </tbody>\n",
       "</table>\n",
       "</div>"
      ],
      "text/plain": [
       "   fit_time  score_time  test_score  train_score\n",
       "0  0.001261    0.000446         1.0          1.0\n",
       "1  0.001187    0.000413         1.0          1.0\n",
       "2  0.001044    0.000368         1.0          1.0\n",
       "3  0.001040    0.000379         1.0          1.0\n",
       "4  0.001049    0.000361         1.0          1.0\n",
       "5  0.074789    0.000325         1.0          1.0\n",
       "6  0.000858    0.000323         1.0          1.0\n",
       "7  0.000750    0.000262         1.0          1.0"
      ]
     },
     "execution_count": 31,
     "metadata": {},
     "output_type": "execute_result"
    }
   ],
   "source": [
    "score_2_rbf"
   ]
  },
  {
   "cell_type": "code",
   "execution_count": 32,
   "metadata": {
    "id": "HhUBWnhYVibX"
   },
   "outputs": [],
   "source": [
    "s1_rbf_train=[score_1_rbf[['train_score']].mean(axis=0),score_2_rbf[['train_score']].mean(axis=0),\n",
    "                score_3_rbf[['train_score']].mean(axis=0),score_4_rbf[['train_score']].mean(axis=0),\n",
    "                score_5_rbf[['train_score']].mean(axis=0),score_6_rbf[['train_score']].mean(axis=0)]  \n",
    "\n",
    "s1_rbf_test=[score_1_rbf[['test_score']].mean(axis=0),score_2_rbf[['test_score']].mean(axis=0),\n",
    "                score_3_rbf[['test_score']].mean(axis=0),score_4_rbf[['test_score']].mean(axis=0),\n",
    "                score_5_rbf[['test_score']].mean(axis=0),score_6_rbf[['test_score']].mean(axis=0)]"
   ]
  },
  {
   "cell_type": "code",
   "execution_count": 33,
   "metadata": {
    "id": "W_1AJeSsVl8-"
   },
   "outputs": [],
   "source": [
    "## Learning curve for Train and Test accuracy for Linear SVM function for various values of C\n",
    "def train_cv_plot_rbf(c,s1_linear_train,s1_linear_test):\n",
    "    plt.plot(c,s1_linear_train,label='train',marker='o',markersize=4)\n",
    "    plt.plot(c,s1_linear_test,label='cv',c='r',marker='o',markersize=4)\n",
    "#     plot.set_xlabel(\"C(Regularization Parameter)\", fontsize = 12)\n",
    "    plt.xlabel(\"C(Regularization Parameter)\")\n",
    "    plt.ylabel(\"Accuracy\")\n",
    "#     plot1.set_title('Accuracy', fontsize = 16)\n",
    "    plt.legend(loc='best')\n",
    "    plt.title(\"Train and CrossValidation accuracy for SVM RBf kernel as a function of C\")"
   ]
  },
  {
   "cell_type": "code",
   "execution_count": 34,
   "metadata": {
    "colab": {
     "base_uri": "https://localhost:8080/",
     "height": 295
    },
    "id": "sILtVjSMVoM-",
    "outputId": "957acbeb-8683-4054-a1ba-f7cd7fd8e70e"
   },
   "outputs": [
    {
     "data": {
      "image/png": "[encoded data removed]",
      "text/plain": [
       "<Figure size 432x288 with 1 Axes>"
      ]
     },
     "metadata": {
      "needs_background": "light"
     },
     "output_type": "display_data"
    }
   ],
   "source": [
    "c=[0.01,0.1,0.5,1,5,10]\n",
    "train_cv_plot_rbf(c,s1_rbf_train,s1_rbf_test)"
   ]
  },
  {
   "cell_type": "code",
   "execution_count": 35,
   "metadata": {
    "id": "LylLhYVpVsFW"
   },
   "outputs": [],
   "source": [
    "model_linear = SVC(kernel='sigmoid', C=0.001)\n",
    "score_1_sig = validation(model_linear, X_train, y_train)\n",
    "model_linear = SVC(kernel='sigmoid', C=0.003)\n",
    "score_2_sig = validation(model_linear, X_train, y_train)\n",
    "model_linear = SVC(kernel='sigmoid', C=0.005)\n",
    "score_3_sig = validation(model_linear, X_train, y_train)\n",
    "model_linear = SVC(kernel='sigmoid', C=0.01)\n",
    "score_4_sig = validation(model_linear, X_train, y_train)\n",
    "model_linear = SVC(kernel='sigmoid', C=0.05)\n",
    "score_5_sig = validation(model_linear, X_train, y_train)\n",
    "model_linear = SVC(kernel='sigmoid', C=1)\n",
    "score_6_sig = validation(model_linear, X_train, y_train)\n",
    "model_linear = SVC(kernel='sigmoid', C=5)\n",
    "score_7_sig = validation(model_linear, X_train, y_train)"
   ]
  },
  {
   "cell_type": "code",
   "execution_count": 36,
   "metadata": {
    "id": "lsIdhG9GVxi-"
   },
   "outputs": [],
   "source": [
    "score_1_sig=pd.DataFrame.from_dict(score_1_sig)\n",
    "score_2_sig=pd.DataFrame.from_dict(score_2_sig)\n",
    "score_3_sig=pd.DataFrame.from_dict(score_3_sig)\n",
    "score_4_sig=pd.DataFrame.from_dict(score_4_sig)\n",
    "score_5_sig=pd.DataFrame.from_dict(score_5_sig)\n",
    "score_6_sig=pd.DataFrame.from_dict(score_6_sig)\n",
    "score_7_sig=pd.DataFrame.from_dict(score_7_sig)"
   ]
  },
  {
   "cell_type": "code",
   "execution_count": 37,
   "metadata": {
    "id": "_Snv3hLMVzp_"
   },
   "outputs": [],
   "source": [
    "s1_sig_train=[score_1_sig[['train_score']].mean(axis=0),score_2_sig[['train_score']].mean(axis=0),\n",
    "                score_3_sig[['train_score']].mean(axis=0),score_4_sig[['train_score']].mean(axis=0),\n",
    "                score_5_sig[['train_score']].mean(axis=0),score_6_sig[['train_score']].mean(axis=0),score_7_sig[['train_score']].mean(axis=0)]  \n",
    "\n",
    "s1_sig_test=[score_1_sig[['test_score']].mean(axis=0),score_2_sig[['test_score']].mean(axis=0),\n",
    "                score_3_sig[['test_score']].mean(axis=0),score_4_sig[['test_score']].mean(axis=0),\n",
    "                score_5_sig[['test_score']].mean(axis=0),score_6_sig[['test_score']].mean(axis=0),score_7_sig[['test_score']].mean(axis=0)]"
   ]
  },
  {
   "cell_type": "code",
   "execution_count": 38,
   "metadata": {
    "id": "d5CEKyFxV54o"
   },
   "outputs": [],
   "source": [
    "## Learning curve for Train and Test accuracy for Linear SVM function for various values of C\n",
    "def train_cv_plot_sig(c,s1_linear_train,s1_linear_test):\n",
    "    plt.plot(c,s1_linear_train,label='train',marker='o',markersize=4)\n",
    "    plt.plot(c,s1_linear_test,label='cv',c='r',marker='o',markersize=4)\n",
    "#     plot.set_xlabel(\"C(Regularization Parameter)\", fontsize = 12)\n",
    "    plt.xlabel(\"C(Regularization Parameter)\")\n",
    "    plt.ylabel(\"Accuracy\")\n",
    "#     plot1.set_title('Accuracy', fontsize = 16)\n",
    "    plt.legend(loc='best')\n",
    "    plt.title(\"Train and CrossValidation accuracy for SVM Sigmoid kernel as a function of C\")"
   ]
  },
  {
   "cell_type": "code",
   "execution_count": 39,
   "metadata": {
    "colab": {
     "base_uri": "https://localhost:8080/",
     "height": 295
    },
    "id": "PnepzfIKV7Ep",
    "outputId": "8f6ee298-9ed6-4e3c-d691-8a11e40f31ed"
   },
   "outputs": [
    {
     "data": {
      "image/png": "[encoded data removed]",
      "text/plain": [
       "<Figure size 432x288 with 1 Axes>"
      ]
     },
     "metadata": {
      "needs_background": "light"
     },
     "output_type": "display_data"
    }
   ],
   "source": [
    "c=[0.001,0.003,0.005,0.01,0.5,1,5]\n",
    "train_cv_plot_sig(c,s1_sig_train,s1_sig_test)"
   ]
  },
  {
   "cell_type": "code",
   "execution_count": 40,
   "metadata": {
    "colab": {
     "base_uri": "https://localhost:8080/"
    },
    "id": "eMd5tY3IV923",
    "outputId": "ba26c6a0-03e6-44ff-ad4c-55c37c18411f"
   },
   "outputs": [
    {
     "data": {
      "text/plain": [
       "SVC(C=0.003, kernel='sigmoid')"
      ]
     },
     "execution_count": 40,
     "metadata": {},
     "output_type": "execute_result"
    }
   ],
   "source": [
    "#### Fitting the functions on the complete training set with best parameters\n",
    "## SVM Functions \n",
    "clf_linear_1 = svm.SVC(kernel='linear', C=0.1)\n",
    "clf_linear_1.fit(X_train,y_train)\n",
    "\n",
    "clf_rbf_1 = svm.SVC(kernel='rbf', C=0.1)\n",
    "clf_rbf_1.fit(X_train,y_train)\n",
    "\n",
    "clf_sigmoid_1 = svm.SVC(kernel='sigmoid', C=0.003)\n",
    "clf_sigmoid_1.fit(X_train,y_train)"
   ]
  },
  {
   "cell_type": "code",
   "execution_count": 41,
   "metadata": {
    "id": "pq4DDIF5WAl_"
   },
   "outputs": [],
   "source": [
    "y_pred_linear=clf_linear_1.predict(X_test)\n",
    "y_pred_rbf=clf_rbf_1.predict(X_test)\n",
    "y_pred_sigmoid=clf_sigmoid_1.predict(X_test)"
   ]
  },
  {
   "cell_type": "code",
   "execution_count": 42,
   "metadata": {
    "colab": {
     "base_uri": "https://localhost:8080/"
    },
    "id": "pB69MOFAWDq4",
    "outputId": "7130d2fc-cab0-409d-9044-967a0b5f2d2a"
   },
   "outputs": [
    {
     "name": "stdout",
     "output_type": "stream",
     "text": [
      "[[22  0]\n",
      " [ 0 14]]\n",
      "              precision    recall  f1-score   support\n",
      "\n",
      "           0       1.00      1.00      1.00        22\n",
      "           1       1.00      1.00      1.00        14\n",
      "\n",
      "    accuracy                           1.00        36\n",
      "   macro avg       1.00      1.00      1.00        36\n",
      "weighted avg       1.00      1.00      1.00        36\n",
      "\n",
      "1.0\n"
     ]
    }
   ],
   "source": [
    "## Classification report for SVM-Linear\n",
    "print(confusion_matrix(y_test,y_pred_linear))  \n",
    "print(classification_report(y_test,y_pred_linear))\n",
    "print(accuracy_score(y_test,y_pred_linear))"
   ]
  },
  {
   "cell_type": "code",
   "execution_count": 43,
   "metadata": {
    "colab": {
     "base_uri": "https://localhost:8080/",
     "height": 295
    },
    "id": "kNwaPdJ0WHgn",
    "outputId": "8e2d33d4-a1af-46e9-c86e-afcb7bf0fe87"
   },
   "outputs": [
    {
     "data": {
      "image/png": "[encoded data removed]",
      "text/plain": [
       "<Figure size 432x288 with 1 Axes>"
      ]
     },
     "metadata": {
      "needs_background": "light"
     },
     "output_type": "display_data"
    }
   ],
   "source": [
    "roc_auc(y_pred_linear,y_test)"
   ]
  },
  {
   "cell_type": "code",
   "execution_count": 44,
   "metadata": {
    "colab": {
     "base_uri": "https://localhost:8080/"
    },
    "id": "wCTAJKMWWMGQ",
    "outputId": "e4393dbc-e4c4-4d2e-9e7c-1ce7d2bc77bc"
   },
   "outputs": [
    {
     "name": "stdout",
     "output_type": "stream",
     "text": [
      "[[22  0]\n",
      " [ 0 14]]\n",
      "              precision    recall  f1-score   support\n",
      "\n",
      "           0       1.00      1.00      1.00        22\n",
      "           1       1.00      1.00      1.00        14\n",
      "\n",
      "    accuracy                           1.00        36\n",
      "   macro avg       1.00      1.00      1.00        36\n",
      "weighted avg       1.00      1.00      1.00        36\n",
      "\n",
      "1.0\n"
     ]
    }
   ],
   "source": [
    "## Classification report for SVM-rbf\n",
    "print(confusion_matrix(y_test,y_pred_rbf))  \n",
    "print(classification_report(y_test,y_pred_rbf))\n",
    "print(accuracy_score(y_test,y_pred_rbf))"
   ]
  },
  {
   "cell_type": "code",
   "execution_count": 45,
   "metadata": {
    "colab": {
     "base_uri": "https://localhost:8080/",
     "height": 295
    },
    "id": "jh2g0TRUWRT_",
    "outputId": "18a8541e-c3b5-4929-a91c-8057938efbac"
   },
   "outputs": [
    {
     "data": {
      "image/png": "[encoded data removed]",
      "text/plain": [
       "<Figure size 432x288 with 1 Axes>"
      ]
     },
     "metadata": {
      "needs_background": "light"
     },
     "output_type": "display_data"
    }
   ],
   "source": [
    "roc_auc(y_pred_rbf,y_test)"
   ]
  },
  {
   "cell_type": "code",
   "execution_count": 46,
   "metadata": {
    "colab": {
     "base_uri": "https://localhost:8080/"
    },
    "id": "I3ThRNBhWUG_",
    "outputId": "f8740012-3451-4ade-fa09-112fa33ebeaf"
   },
   "outputs": [
    {
     "name": "stdout",
     "output_type": "stream",
     "text": [
      "[[22  0]\n",
      " [14  0]]\n",
      "              precision    recall  f1-score   support\n",
      "\n",
      "           0       0.61      1.00      0.76        22\n",
      "           1       0.00      0.00      0.00        14\n",
      "\n",
      "    accuracy                           0.61        36\n",
      "   macro avg       0.31      0.50      0.38        36\n",
      "weighted avg       0.37      0.61      0.46        36\n",
      "\n",
      "0.6111111111111112\n"
     ]
    }
   ],
   "source": [
    "## Classification report for SVM-sigmoid\n",
    "print(confusion_matrix(y_test,y_pred_sigmoid))  \n",
    "print(classification_report(y_test,y_pred_sigmoid))\n",
    "print(accuracy_score(y_test,y_pred_sigmoid))"
   ]
  },
  {
   "cell_type": "code",
   "execution_count": 47,
   "metadata": {
    "colab": {
     "base_uri": "https://localhost:8080/",
     "height": 295
    },
    "id": "DeY3Yu9yWWft",
    "outputId": "8ee72c3a-a754-4550-cce3-c145cd0b4a20"
   },
   "outputs": [
    {
     "data": {
      "image/png": "[encoded data removed]",
      "text/plain": [
       "<Figure size 432x288 with 1 Axes>"
      ]
     },
     "metadata": {
      "needs_background": "light"
     },
     "output_type": "display_data"
    }
   ],
   "source": [
    "roc_auc(y_pred_rbf,y_test)"
   ]
  },
  {
   "cell_type": "code",
   "execution_count": 48,
   "metadata": {
    "id": "MyEANV0IWYca"
   },
   "outputs": [],
   "source": [
    "# Decision Tree\n",
    "def train_using_gini(X_train, y_train, depth): \n",
    "  \n",
    "    clf_gini = DecisionTreeClassifier(criterion = \"gini\", \n",
    "            random_state = 42,max_depth=depth) \n",
    "  \n",
    "    clf_gini.fit(X_train, y_train) #training\n",
    "    return clf_gini"
   ]
  },
  {
   "cell_type": "code",
   "execution_count": 49,
   "metadata": {
    "id": "_HCSzzahWn5P"
   },
   "outputs": [],
   "source": [
    "def prediction(X_test, clf_object): \n",
    "  \n",
    "    y_pred_tree = clf_object.predict(X_test)  \n",
    "    return y_pred_tree"
   ]
  },
  {
   "cell_type": "code",
   "execution_count": 50,
   "metadata": {
    "id": "veZFoSuqWsb2"
   },
   "outputs": [],
   "source": [
    "def accuracy(y_test, y_pred): \n",
    "      \n",
    "    print(\"Confusion Matrix is: \",confusion_matrix(y_test, y_pred)) \n",
    "      \n",
    "    print (\"Accuracy Score is: \", accuracy_score(y_test,y_pred)*100) \n",
    "      \n",
    "    print(\"Classsification Report is: \", classification_report(y_test, y_pred))"
   ]
  },
  {
   "cell_type": "code",
   "execution_count": 51,
   "metadata": {
    "id": "SxsvJ3cNWwFN"
   },
   "outputs": [],
   "source": [
    "CC_alpha=[0.00001,0.0001,0.001,0.01,0.05,0.1,0.4]\n",
    "model_linear = DecisionTreeClassifier(criterion = \"gini\", \n",
    "            random_state = 42,ccp_alpha=0.00001)\n",
    "score_1_dt = validation(model_linear, X_train, y_train)\n",
    "model_linear = DecisionTreeClassifier(criterion = \"gini\", \n",
    "            random_state = 42,ccp_alpha=0.0001)\n",
    "score_2_dt = validation(model_linear, X_train, y_train)\n",
    "\n",
    "\n",
    "model_linear = DecisionTreeClassifier(criterion = \"gini\", \n",
    "            random_state = 42,ccp_alpha=0.001)\n",
    "score_3_dt = validation(model_linear, X_train, y_train)\n",
    "model_linear = DecisionTreeClassifier(criterion = \"gini\", \n",
    "            random_state = 42,ccp_alpha=0.01)\n",
    "score_4_dt = validation(model_linear, X_train, y_train)\n",
    "model_linear = DecisionTreeClassifier(criterion = \"gini\", \n",
    "            random_state = 42,ccp_alpha=0.05)\n",
    "score_5_dt = validation(model_linear, X_train, y_train)\n",
    "model_linear = DecisionTreeClassifier(criterion = \"gini\", \n",
    "            random_state = 42,ccp_alpha=0.1)\n",
    "score_6_dt = validation(model_linear, X_train, y_train)\n",
    "model_linear = DecisionTreeClassifier(criterion = \"gini\", \n",
    "            random_state = 42,ccp_alpha=0.4)\n",
    "score_7_dt = validation(model_linear, X_train, y_train)"
   ]
  },
  {
   "cell_type": "code",
   "execution_count": 52,
   "metadata": {
    "id": "ICsg0iaGWyCe"
   },
   "outputs": [],
   "source": [
    "score_1_dt=pd.DataFrame.from_dict(score_1_dt)\n",
    "score_2_dt=pd.DataFrame.from_dict(score_2_dt)\n",
    "score_3_dt=pd.DataFrame.from_dict(score_3_dt)\n",
    "score_4_dt=pd.DataFrame.from_dict(score_4_dt)\n",
    "score_5_dt=pd.DataFrame.from_dict(score_5_dt)\n",
    "score_6_dt=pd.DataFrame.from_dict(score_6_dt)\n",
    "score_7_dt=pd.DataFrame.from_dict(score_7_dt)"
   ]
  },
  {
   "cell_type": "code",
   "execution_count": 53,
   "metadata": {
    "colab": {
     "base_uri": "https://localhost:8080/",
     "height": 299
    },
    "id": "fqz0g9TuW2HZ",
    "outputId": "ac17c2f9-1e1a-44fc-9e43-43ab3c721631"
   },
   "outputs": [
    {
     "data": {
      "text/html": [
       "<div>\n",
       "<style scoped>\n",
       "    .dataframe tbody tr th:only-of-type {\n",
       "        vertical-align: middle;\n",
       "    }\n",
       "\n",
       "    .dataframe tbody tr th {\n",
       "        vertical-align: top;\n",
       "    }\n",
       "\n",
       "    .dataframe thead th {\n",
       "        text-align: right;\n",
       "    }\n",
       "</style>\n",
       "<table border=\"1\" class=\"dataframe\">\n",
       "  <thead>\n",
       "    <tr style=\"text-align: right;\">\n",
       "      <th></th>\n",
       "      <th>fit_time</th>\n",
       "      <th>score_time</th>\n",
       "      <th>test_score</th>\n",
       "      <th>train_score</th>\n",
       "    </tr>\n",
       "  </thead>\n",
       "  <tbody>\n",
       "    <tr>\n",
       "      <th>0</th>\n",
       "      <td>0.001346</td>\n",
       "      <td>0.000196</td>\n",
       "      <td>1.0</td>\n",
       "      <td>1.0</td>\n",
       "    </tr>\n",
       "    <tr>\n",
       "      <th>1</th>\n",
       "      <td>0.001227</td>\n",
       "      <td>0.000181</td>\n",
       "      <td>1.0</td>\n",
       "      <td>1.0</td>\n",
       "    </tr>\n",
       "    <tr>\n",
       "      <th>2</th>\n",
       "      <td>0.001239</td>\n",
       "      <td>0.000185</td>\n",
       "      <td>1.0</td>\n",
       "      <td>1.0</td>\n",
       "    </tr>\n",
       "    <tr>\n",
       "      <th>3</th>\n",
       "      <td>0.001232</td>\n",
       "      <td>0.000190</td>\n",
       "      <td>1.0</td>\n",
       "      <td>1.0</td>\n",
       "    </tr>\n",
       "    <tr>\n",
       "      <th>4</th>\n",
       "      <td>0.001653</td>\n",
       "      <td>0.000320</td>\n",
       "      <td>1.0</td>\n",
       "      <td>1.0</td>\n",
       "    </tr>\n",
       "    <tr>\n",
       "      <th>5</th>\n",
       "      <td>0.001649</td>\n",
       "      <td>0.000250</td>\n",
       "      <td>0.9</td>\n",
       "      <td>1.0</td>\n",
       "    </tr>\n",
       "    <tr>\n",
       "      <th>6</th>\n",
       "      <td>0.001616</td>\n",
       "      <td>0.000194</td>\n",
       "      <td>1.0</td>\n",
       "      <td>1.0</td>\n",
       "    </tr>\n",
       "    <tr>\n",
       "      <th>7</th>\n",
       "      <td>0.001289</td>\n",
       "      <td>0.000199</td>\n",
       "      <td>1.0</td>\n",
       "      <td>1.0</td>\n",
       "    </tr>\n",
       "  </tbody>\n",
       "</table>\n",
       "</div>"
      ],
      "text/plain": [
       "   fit_time  score_time  test_score  train_score\n",
       "0  0.001346    0.000196         1.0          1.0\n",
       "1  0.001227    0.000181         1.0          1.0\n",
       "2  0.001239    0.000185         1.0          1.0\n",
       "3  0.001232    0.000190         1.0          1.0\n",
       "4  0.001653    0.000320         1.0          1.0\n",
       "5  0.001649    0.000250         0.9          1.0\n",
       "6  0.001616    0.000194         1.0          1.0\n",
       "7  0.001289    0.000199         1.0          1.0"
      ]
     },
     "execution_count": 53,
     "metadata": {},
     "output_type": "execute_result"
    }
   ],
   "source": [
    "score_2_dt"
   ]
  },
  {
   "cell_type": "code",
   "execution_count": 54,
   "metadata": {
    "id": "y-4CgicpaJHX"
   },
   "outputs": [],
   "source": [
    "s1_dt_train=[score_1_dt[['train_score']].mean(axis=0),score_2_dt[['train_score']].mean(axis=0),\n",
    "                score_3_dt[['train_score']].mean(axis=0),score_4_dt[['train_score']].mean(axis=0),\n",
    "                score_5_dt[['train_score']].mean(axis=0),score_6_dt[['train_score']].mean(axis=0),score_7_dt[['train_score']].mean(axis=0)]  \n",
    "\n",
    "s1_dt_test=[score_1_dt[['test_score']].mean(axis=0),score_2_dt[['test_score']].mean(axis=0),\n",
    "                score_3_dt[['test_score']].mean(axis=0),score_4_dt[['test_score']].mean(axis=0),\n",
    "                score_5_dt[['test_score']].mean(axis=0),score_6_dt[['test_score']].mean(axis=0),score_7_dt[['test_score']].mean(axis=0)]"
   ]
  },
  {
   "cell_type": "code",
   "execution_count": 55,
   "metadata": {
    "colab": {
     "base_uri": "https://localhost:8080/",
     "height": 296
    },
    "id": "si3P8YrGa6YX",
    "outputId": "82a1e2c0-e0e4-4f8b-fe63-3e8d71666ea8"
   },
   "outputs": [
    {
     "data": {
      "image/png": "[encoded data removed]",
      "text/plain": [
       "<Figure size 432x288 with 1 Axes>"
      ]
     },
     "metadata": {
      "needs_background": "light"
     },
     "output_type": "display_data"
    }
   ],
   "source": [
    "CC_alpha=[0.00001,0.0001,0.001,0.01,0.05,0.1,0.4]\n",
    "def train_cv_plot_dt(c,s1_linear_train,s1_linear_test):\n",
    "    plt.plot(c,s1_linear_train,label='train')\n",
    "    plt.plot(c,s1_linear_test,label='cv')\n",
    "    plt.xlabel(\"cc_aplha\")\n",
    "    plt.ylabel(\"Accuracy\")\n",
    "    plt.legend(loc='lower right')\n",
    "    plt.title(\"Train and CrossValidation accuracy for Decision Tree as a function of cc_alpha\")\n",
    "train_cv_plot_dt(CC_alpha,s1_dt_train,s1_dt_test)"
   ]
  },
  {
   "cell_type": "code",
   "execution_count": 56,
   "metadata": {
    "id": "9XLcxJE5bAu3"
   },
   "outputs": [],
   "source": [
    "from sklearn.metrics import mean_squared_error"
   ]
  },
  {
   "cell_type": "code",
   "execution_count": 57,
   "metadata": {
    "colab": {
     "base_uri": "https://localhost:8080/"
    },
    "id": "VMCpXwtjbB3G",
    "outputId": "cc9e0dd6-a475-43b1-deb8-3c653884ed61"
   },
   "outputs": [
    {
     "name": "stdout",
     "output_type": "stream",
     "text": [
      "Confusion Matrix is:  [[22  0]\n",
      " [ 0 14]]\n",
      "Accuracy Score is:  100.0\n",
      "Classsification Report is:                precision    recall  f1-score   support\n",
      "\n",
      "           0       1.00      1.00      1.00        22\n",
      "           1       1.00      1.00      1.00        14\n",
      "\n",
      "    accuracy                           1.00        36\n",
      "   macro avg       1.00      1.00      1.00        36\n",
      "weighted avg       1.00      1.00      1.00        36\n",
      "\n",
      "None\n",
      "2\n"
     ]
    }
   ],
   "source": [
    "clf_gini = DecisionTreeClassifier(criterion = \"gini\", random_state = 100)\n",
    "clf_gini.fit(X_train, y_train) \n",
    "y_pred_tree = prediction(X_test, clf_gini)\n",
    "print(accuracy(y_test, y_pred_tree))\n",
    "\n",
    "print(clf_gini.tree_.max_depth)\n",
    "# clf.gin"
   ]
  },
  {
   "cell_type": "code",
   "execution_count": 58,
   "metadata": {
    "colab": {
     "base_uri": "https://localhost:8080/"
    },
    "id": "oDG9Z3mAbIcC",
    "outputId": "bf872ea4-9af0-4c90-a48c-3bbb0d5cc48a"
   },
   "outputs": [
    {
     "name": "stdout",
     "output_type": "stream",
     "text": [
      "Accuracy on training set: 100.0\n",
      "Accuracy on test set: 100.0\n"
     ]
    }
   ],
   "source": [
    "print(\"Accuracy on training set:\",clf_gini.score(X_train, y_train)*100)\n",
    "print(\"Accuracy on test set:\",clf_gini.score(X_test, y_test)*100)"
   ]
  },
  {
   "cell_type": "code",
   "execution_count": 62,
   "metadata": {
    "colab": {
     "base_uri": "https://localhost:8080/",
     "height": 279
    },
    "id": "wmg_RQWabLxj",
    "outputId": "44f059d8-5c61-40db-8a0a-bdcd96255aa2"
   },
   "outputs": [
    {
     "data": {
      "image/png": "[encoded data removed]",
      "text/plain": [
       "<Figure size 432x288 with 1 Axes>"
      ]
     },
     "metadata": {
      "needs_background": "light"
     },
     "output_type": "display_data"
    }
   ],
   "source": [
    "test_accuracy = []\n",
    "train_accuracy = []\n",
    "depth = []\n",
    "for i in range(1,clf_gini.tree_.max_depth):\n",
    "    clf_gini_1 = train_using_gini(X_train, y_train, i)\n",
    "    y_pred_tree_test = prediction(X_test, clf_gini_1)\n",
    "    y_pred_tree_train = prediction(X_train, clf_gini_1)\n",
    "    test_accuracy.append(accuracy_score(y_test,y_pred_tree_test)*100)\n",
    "    train_accuracy.append(accuracy_score(y_train,y_pred_tree_train)*100)\n",
    "    depth.append(i)\n",
    "    \n",
    "plt.xlabel('Depth')\n",
    "plt.ylabel('Accuracy')\n",
    "plt.plot(depth,train_accuracy, label='train')\n",
    "plt.plot(depth,test_accuracy, label='test')\n",
    "plt.legend(loc='best')\n",
    "plt.show()"
   ]
  },
  {
   "cell_type": "code",
   "execution_count": 61,
   "metadata": {
    "colab": {
     "base_uri": "https://localhost:8080/"
    },
    "id": "DjZnCqdLbQJ2",
    "outputId": "e811ffce-2065-44ee-deb7-cb2adf012d97"
   },
   "outputs": [
    {
     "name": "stdout",
     "output_type": "stream",
     "text": [
      "Accuracy on training set: 100.0\n",
      "Accuracy on test set: 100.0\n"
     ]
    }
   ],
   "source": [
    "print(\"Accuracy on training set:\",clf_gini.score(X_train, y_train)*100)\n",
    "print(\"Accuracy on test set:\",clf_gini.score(X_test, y_test)*100)"
   ]
  },
  {
   "cell_type": "code",
   "execution_count": 60,
   "metadata": {
    "colab": {
     "base_uri": "https://localhost:8080/",
     "height": 295
    },
    "id": "B-mo3Ia5bTsx",
    "outputId": "a5a3525c-6ddd-4c6e-f5df-e15599873bcf"
   },
   "outputs": [
    {
     "data": {
      "image/png": "[encoded data removed]",
      "text/plain": [
       "<Figure size 432x288 with 1 Axes>"
      ]
     },
     "metadata": {
      "needs_background": "light"
     },
     "output_type": "display_data"
    }
   ],
   "source": [
    "test_accuracy = []\n",
    "train_accuracy = []\n",
    "depth = []\n",
    "for i in range(1,clf_gini.tree_.max_depth):\n",
    "    clf_gini_1 = train_using_gini(X_train, y_train, i)\n",
    "    y_pred_tree_test = prediction(X_test, clf_gini_1)\n",
    "    y_pred_tree_train = prediction(X_train, clf_gini_1)\n",
    "    test_accuracy.append(accuracy_score(y_test,y_pred_tree_test)*100)\n",
    "    train_accuracy.append(accuracy_score(y_train,y_pred_tree_train)*100)\n",
    "    depth.append(i)\n",
    "    \n",
    "plt.xlabel('Depth')\n",
    "plt.ylabel('Accuracy')\n",
    "plt.plot(depth,train_accuracy, label='train',marker='d',markersize=4)\n",
    "plt.plot(depth,test_accuracy, label='test',marker='d',markersize=4,color='r')\n",
    "plt.title(\"Change in Accuracy w.r.t  change in Depth\")\n",
    "plt.legend(loc='best')\n",
    "plt.show()"
   ]
  },
  {
   "cell_type": "code",
   "execution_count": null,
   "metadata": {
    "colab": {
     "base_uri": "https://localhost:8080/"
    },
    "id": "uPBxJtvCbdP4",
    "outputId": "2503d15a-d411-4578-8ac6-41eccc3f0cd7"
   },
   "outputs": [],
   "source": [
    "clf_gini = DecisionTreeClassifier(criterion = \"gini\", random_state = 100,max_depth=8)\n",
    "clf_gini.fit(X_train, y_train) \n",
    "y_pred_tree = prediction(X_test, clf_gini)\n",
    "accuracy(y_test, y_pred_tree)"
   ]
  },
  {
   "cell_type": "code",
   "execution_count": 63,
   "metadata": {
    "id": "a0wt_BjTbhzu"
   },
   "outputs": [],
   "source": [
    "CC_alpha=[0.0000001,0.000001,0.00001,0.0001,0.001,0.01,0.1]\n",
    "model_linear = DecisionTreeClassifier(criterion = \"gini\", \n",
    "            random_state = 42,ccp_alpha=0.0000001,max_depth=2)\n",
    "score_1_dt = validation(model_linear, X_train, y_train)\n",
    "model_linear = DecisionTreeClassifier(criterion = \"gini\", \n",
    "            random_state = 42,ccp_alpha=0.000001,max_depth=2)\n",
    "score_2_dt = validation(model_linear, X_train, y_train)\n",
    "\n",
    "\n",
    "model_linear = DecisionTreeClassifier(criterion = \"gini\", \n",
    "            random_state = 42,ccp_alpha=0.00001,max_depth=2)\n",
    "score_3_dt = validation(model_linear, X_train, y_train)\n",
    "model_linear = DecisionTreeClassifier(criterion = \"gini\", \n",
    "            random_state = 42,ccp_alpha=0.0001,max_depth=2)\n",
    "score_4_dt = validation(model_linear, X_train, y_train)\n",
    "model_linear = DecisionTreeClassifier(criterion = \"gini\", \n",
    "            random_state = 42,ccp_alpha=0.001,max_depth=2)\n",
    "score_5_dt = validation(model_linear, X_train, y_train)\n",
    "model_linear = DecisionTreeClassifier(criterion = \"gini\", \n",
    "            random_state = 42,ccp_alpha=0.01,max_depth=2)\n",
    "score_6_dt = validation(model_linear, X_train, y_train)\n",
    "model_linear = DecisionTreeClassifier(criterion = \"gini\", \n",
    "            random_state = 42,ccp_alpha=0.05,max_depth=2)\n",
    "score_7_dt = validation(model_linear, X_train, y_train)"
   ]
  },
  {
   "cell_type": "code",
   "execution_count": 64,
   "metadata": {
    "id": "mGlu2eMUbjBi"
   },
   "outputs": [],
   "source": [
    "score_1_dt=pd.DataFrame.from_dict(score_1_dt)\n",
    "score_2_dt=pd.DataFrame.from_dict(score_2_dt)\n",
    "score_3_dt=pd.DataFrame.from_dict(score_3_dt)\n",
    "score_4_dt=pd.DataFrame.from_dict(score_4_dt)\n",
    "score_5_dt=pd.DataFrame.from_dict(score_5_dt)\n",
    "score_6_dt=pd.DataFrame.from_dict(score_6_dt)\n",
    "score_7_dt=pd.DataFrame.from_dict(score_7_dt)"
   ]
  },
  {
   "cell_type": "code",
   "execution_count": 65,
   "metadata": {
    "colab": {
     "base_uri": "https://localhost:8080/",
     "height": 299
    },
    "id": "a6hcu1FObmYd",
    "outputId": "94d56186-a222-4772-c7ef-a8e58dbb3628"
   },
   "outputs": [
    {
     "data": {
      "text/html": [
       "<div>\n",
       "<style scoped>\n",
       "    .dataframe tbody tr th:only-of-type {\n",
       "        vertical-align: middle;\n",
       "    }\n",
       "\n",
       "    .dataframe tbody tr th {\n",
       "        vertical-align: top;\n",
       "    }\n",
       "\n",
       "    .dataframe thead th {\n",
       "        text-align: right;\n",
       "    }\n",
       "</style>\n",
       "<table border=\"1\" class=\"dataframe\">\n",
       "  <thead>\n",
       "    <tr style=\"text-align: right;\">\n",
       "      <th></th>\n",
       "      <th>fit_time</th>\n",
       "      <th>score_time</th>\n",
       "      <th>test_score</th>\n",
       "      <th>train_score</th>\n",
       "    </tr>\n",
       "  </thead>\n",
       "  <tbody>\n",
       "    <tr>\n",
       "      <th>0</th>\n",
       "      <td>0.001794</td>\n",
       "      <td>0.000271</td>\n",
       "      <td>1.0</td>\n",
       "      <td>1.0</td>\n",
       "    </tr>\n",
       "    <tr>\n",
       "      <th>1</th>\n",
       "      <td>0.001611</td>\n",
       "      <td>0.000251</td>\n",
       "      <td>1.0</td>\n",
       "      <td>1.0</td>\n",
       "    </tr>\n",
       "    <tr>\n",
       "      <th>2</th>\n",
       "      <td>0.001601</td>\n",
       "      <td>0.000262</td>\n",
       "      <td>1.0</td>\n",
       "      <td>1.0</td>\n",
       "    </tr>\n",
       "    <tr>\n",
       "      <th>3</th>\n",
       "      <td>0.001709</td>\n",
       "      <td>0.000248</td>\n",
       "      <td>1.0</td>\n",
       "      <td>1.0</td>\n",
       "    </tr>\n",
       "    <tr>\n",
       "      <th>4</th>\n",
       "      <td>0.001403</td>\n",
       "      <td>0.000197</td>\n",
       "      <td>1.0</td>\n",
       "      <td>1.0</td>\n",
       "    </tr>\n",
       "    <tr>\n",
       "      <th>5</th>\n",
       "      <td>0.001274</td>\n",
       "      <td>0.000189</td>\n",
       "      <td>0.9</td>\n",
       "      <td>1.0</td>\n",
       "    </tr>\n",
       "    <tr>\n",
       "      <th>6</th>\n",
       "      <td>0.001350</td>\n",
       "      <td>0.000229</td>\n",
       "      <td>1.0</td>\n",
       "      <td>1.0</td>\n",
       "    </tr>\n",
       "    <tr>\n",
       "      <th>7</th>\n",
       "      <td>0.001362</td>\n",
       "      <td>0.000213</td>\n",
       "      <td>1.0</td>\n",
       "      <td>1.0</td>\n",
       "    </tr>\n",
       "  </tbody>\n",
       "</table>\n",
       "</div>"
      ],
      "text/plain": [
       "   fit_time  score_time  test_score  train_score\n",
       "0  0.001794    0.000271         1.0          1.0\n",
       "1  0.001611    0.000251         1.0          1.0\n",
       "2  0.001601    0.000262         1.0          1.0\n",
       "3  0.001709    0.000248         1.0          1.0\n",
       "4  0.001403    0.000197         1.0          1.0\n",
       "5  0.001274    0.000189         0.9          1.0\n",
       "6  0.001350    0.000229         1.0          1.0\n",
       "7  0.001362    0.000213         1.0          1.0"
      ]
     },
     "execution_count": 65,
     "metadata": {},
     "output_type": "execute_result"
    }
   ],
   "source": [
    "score_2_dt"
   ]
  },
  {
   "cell_type": "code",
   "execution_count": 66,
   "metadata": {
    "id": "CSPusmzZbqDT"
   },
   "outputs": [],
   "source": [
    "s1_dt_train=[score_1_dt[['train_score']].mean(axis=0),score_2_dt[['train_score']].mean(axis=0),\n",
    "                score_3_dt[['train_score']].mean(axis=0),score_4_dt[['train_score']].mean(axis=0),score_5_dt[['train_score']].mean(axis=0),\n",
    "            score_6_dt[['train_score']].mean(axis=0),score_7_dt[['train_score']].mean(axis=0)]  \n",
    "\n",
    "s1_dt_test=[score_1_dt[['test_score']].mean(axis=0),score_2_dt[['test_score']].mean(axis=0),\n",
    "                score_3_dt[['test_score']].mean(axis=0),score_4_dt[['test_score']].mean(axis=0),score_5_dt[['test_score']].mean(axis=0),\n",
    "           score_6_dt[['test_score']].mean(axis=0),score_7_dt[['test_score']].mean(axis=0)]"
   ]
  },
  {
   "cell_type": "code",
   "execution_count": 67,
   "metadata": {
    "colab": {
     "base_uri": "https://localhost:8080/",
     "height": 296
    },
    "id": "nq2dpC5Ubs6B",
    "outputId": "110ba91f-96d1-4683-d399-e611fab88e0d"
   },
   "outputs": [
    {
     "data": {
      "image/png": "[encoded data removed]",
      "text/plain": [
       "<Figure size 432x288 with 1 Axes>"
      ]
     },
     "metadata": {
      "needs_background": "light"
     },
     "output_type": "display_data"
    }
   ],
   "source": [
    "CC_alpha=[0.0000001,0.000001,0.00001,0.0001,0.001,0.01,0.05]\n",
    "def train_cv_plot_dt(c,s1_linear_train,s1_linear_test):\n",
    "    plt.plot(c,s1_linear_train,label='train',marker='d',markersize=4)\n",
    "    plt.plot(c,s1_linear_test,label='cv',marker='d',markersize=4,color='r')\n",
    "    plt.xlabel(\"cc_aplha\")\n",
    "    plt.ylabel(\"Accuracy\")\n",
    "    plt.legend(loc='best')\n",
    "    plt.title(\"Train and CrossValidation accuracy for Decision Tree as a function of cc_alpha\")\n",
    "train_cv_plot_dt(CC_alpha,s1_dt_train,s1_dt_test)"
   ]
  },
  {
   "cell_type": "code",
   "execution_count": null,
   "metadata": {
    "id": "3BuItp3obwqW"
   },
   "outputs": [],
   "source": [
    "from sklearn.metrics import mean_squared_error"
   ]
  },
  {
   "cell_type": "code",
   "execution_count": 68,
   "metadata": {
    "colab": {
     "base_uri": "https://localhost:8080/"
    },
    "id": "psCQrQF4eAqh",
    "outputId": "761612da-6dc3-4af3-9e34-fd93fa2c1751"
   },
   "outputs": [
    {
     "name": "stdout",
     "output_type": "stream",
     "text": [
      "Confusion Matrix is:  [[22  0]\n",
      " [ 0 14]]\n",
      "Accuracy Score is:  100.0\n",
      "Classsification Report is:                precision    recall  f1-score   support\n",
      "\n",
      "           0       1.00      1.00      1.00        22\n",
      "           1       1.00      1.00      1.00        14\n",
      "\n",
      "    accuracy                           1.00        36\n",
      "   macro avg       1.00      1.00      1.00        36\n",
      "weighted avg       1.00      1.00      1.00        36\n",
      "\n",
      "Confusion Matrix is:  [[22  0]\n",
      " [ 0 14]]\n",
      "Accuracy Score is:  100.0\n",
      "Classsification Report is:                precision    recall  f1-score   support\n",
      "\n",
      "           0       1.00      1.00      1.00        22\n",
      "           1       1.00      1.00      1.00        14\n",
      "\n",
      "    accuracy                           1.00        36\n",
      "   macro avg       1.00      1.00      1.00        36\n",
      "weighted avg       1.00      1.00      1.00        36\n",
      "\n",
      "Confusion Matrix is:  [[22  0]\n",
      " [ 0 14]]\n",
      "Accuracy Score is:  100.0\n",
      "Classsification Report is:                precision    recall  f1-score   support\n",
      "\n",
      "           0       1.00      1.00      1.00        22\n",
      "           1       1.00      1.00      1.00        14\n",
      "\n",
      "    accuracy                           1.00        36\n",
      "   macro avg       1.00      1.00      1.00        36\n",
      "weighted avg       1.00      1.00      1.00        36\n",
      "\n",
      "Confusion Matrix is:  [[22  0]\n",
      " [ 0 14]]\n",
      "Accuracy Score is:  100.0\n",
      "Classsification Report is:                precision    recall  f1-score   support\n",
      "\n",
      "           0       1.00      1.00      1.00        22\n",
      "           1       1.00      1.00      1.00        14\n",
      "\n",
      "    accuracy                           1.00        36\n",
      "   macro avg       1.00      1.00      1.00        36\n",
      "weighted avg       1.00      1.00      1.00        36\n",
      "\n",
      "Confusion Matrix is:  [[22  0]\n",
      " [ 0 14]]\n",
      "Accuracy Score is:  100.0\n",
      "Classsification Report is:                precision    recall  f1-score   support\n",
      "\n",
      "           0       1.00      1.00      1.00        22\n",
      "           1       1.00      1.00      1.00        14\n",
      "\n",
      "    accuracy                           1.00        36\n",
      "   macro avg       1.00      1.00      1.00        36\n",
      "weighted avg       1.00      1.00      1.00        36\n",
      "\n",
      "Confusion Matrix is:  [[22  0]\n",
      " [ 0 14]]\n",
      "Accuracy Score is:  100.0\n",
      "Classsification Report is:                precision    recall  f1-score   support\n",
      "\n",
      "           0       1.00      1.00      1.00        22\n",
      "           1       1.00      1.00      1.00        14\n",
      "\n",
      "    accuracy                           1.00        36\n",
      "   macro avg       1.00      1.00      1.00        36\n",
      "weighted avg       1.00      1.00      1.00        36\n",
      "\n",
      "Confusion Matrix is:  [[22  0]\n",
      " [ 0 14]]\n",
      "Accuracy Score is:  100.0\n",
      "Classsification Report is:                precision    recall  f1-score   support\n",
      "\n",
      "           0       1.00      1.00      1.00        22\n",
      "           1       1.00      1.00      1.00        14\n",
      "\n",
      "    accuracy                           1.00        36\n",
      "   macro avg       1.00      1.00      1.00        36\n",
      "weighted avg       1.00      1.00      1.00        36\n",
      "\n",
      "Confusion Matrix is:  [[22  0]\n",
      " [ 0 14]]\n",
      "Accuracy Score is:  100.0\n",
      "Classsification Report is:                precision    recall  f1-score   support\n",
      "\n",
      "           0       1.00      1.00      1.00        22\n",
      "           1       1.00      1.00      1.00        14\n",
      "\n",
      "    accuracy                           1.00        36\n",
      "   macro avg       1.00      1.00      1.00        36\n",
      "weighted avg       1.00      1.00      1.00        36\n",
      "\n"
     ]
    }
   ],
   "source": [
    "C=[0.00001,0.00005,0.0001,0.0005,0.001,0.005,0.01,0.05]\n",
    "tree_depth=[]\n",
    "tree_acc=[]\n",
    "# for i in CC_alpha:\n",
    "#     clf_gini1 = DecisionTreeClassifier(criterion = \"gini\", random_state = 42,ccp_alpha=i)\n",
    "#     clf_gini_.fit(X_train, y_train)\n",
    "#     y1_pred_tree = prediction(X_test, clf_gini)\n",
    "#     print(accuracy(y_test, y_pred_tree))\n",
    "# #     print(clf_gini1.tree_.max_depth)\n",
    "#     ccp_alpha_list.append(clf_gini1)\n",
    "for i in C:\n",
    "    clf_gini_ = DecisionTreeClassifier(criterion = \"gini\", random_state = 100,ccp_alpha=i,max_depth=2)\n",
    "    clf_gini_.fit(X_train, y_train) \n",
    "    y1_pred_tree = prediction(X_test, clf_gini)\n",
    "    tree_acc.append(accuracy(y_test, y_pred_tree))\n",
    "    tree_depth.append(clf_gini_.tree_.max_depth)"
   ]
  },
  {
   "cell_type": "code",
   "execution_count": 69,
   "metadata": {
    "colab": {
     "base_uri": "https://localhost:8080/",
     "height": 280
    },
    "id": "KPinMwZ1fZtw",
    "outputId": "f5acc361-afa5-4e03-c462-1cf8492294dd"
   },
   "outputs": [
    {
     "data": {
      "image/png": "[encoded data removed]",
      "text/plain": [
       "<Figure size 432x288 with 1 Axes>"
      ]
     },
     "metadata": {
      "needs_background": "light"
     },
     "output_type": "display_data"
    }
   ],
   "source": [
    "plt.plot(C,tree_depth,c='g')\n",
    "plt.xlabel('ccp_aplha')\n",
    "plt.ylabel('tree depth')\n",
    "plt.show()"
   ]
  },
  {
   "cell_type": "code",
   "execution_count": 70,
   "metadata": {
    "colab": {
     "base_uri": "https://localhost:8080/"
    },
    "id": "5PW4AwIlfdAk",
    "outputId": "952d028a-3105-4297-d712-e052271f2697"
   },
   "outputs": [
    {
     "name": "stdout",
     "output_type": "stream",
     "text": [
      "Confusion Matrix is:  [[22  0]\n",
      " [ 0 14]]\n",
      "Accuracy Score is:  100.0\n",
      "Classsification Report is:                precision    recall  f1-score   support\n",
      "\n",
      "           0       1.00      1.00      1.00        22\n",
      "           1       1.00      1.00      1.00        14\n",
      "\n",
      "    accuracy                           1.00        36\n",
      "   macro avg       1.00      1.00      1.00        36\n",
      "weighted avg       1.00      1.00      1.00        36\n",
      "\n",
      "None\n"
     ]
    }
   ],
   "source": [
    "clf_gini_ = DecisionTreeClassifier(criterion = \"gini\", random_state = 100, max_depth=2,ccp_alpha=0.00001)\n",
    "clf_gini_.fit(X_train, y_train) \n",
    "y1_pred_tree = prediction(X_test, clf_gini)\n",
    "print(accuracy(y_test, y_pred_tree))\n",
    "\n",
    "# print(clf_gini_.tree_.max_depth)\n",
    "# clf.gin"
   ]
  },
  {
   "cell_type": "code",
   "execution_count": 71,
   "metadata": {
    "colab": {
     "base_uri": "https://localhost:8080/"
    },
    "id": "zu74fYYvfj_I",
    "outputId": "9c13929d-7488-4a9c-855e-4db8fe4553ca"
   },
   "outputs": [
    {
     "name": "stdout",
     "output_type": "stream",
     "text": [
      "Accuracy on training set: 100.0\n",
      "Accuracy on test set: 100.0\n"
     ]
    }
   ],
   "source": [
    "print(\"Accuracy on training set:\",clf_gini.score(X_train, y_train)*100)\n",
    "print(\"Accuracy on test set:\",clf_gini.score(X_test, y_test)*100)"
   ]
  },
  {
   "cell_type": "code",
   "execution_count": 72,
   "metadata": {
    "colab": {
     "base_uri": "https://localhost:8080/",
     "height": 279
    },
    "id": "WlUekpSAfm_2",
    "outputId": "12787dc0-a78f-4155-98e4-f9719f12be9a"
   },
   "outputs": [
    {
     "data": {
      "image/png": "[encoded data removed]",
      "text/plain": [
       "<Figure size 432x288 with 1 Axes>"
      ]
     },
     "metadata": {
      "needs_background": "light"
     },
     "output_type": "display_data"
    }
   ],
   "source": [
    "test_accuracy = []\n",
    "train_accuracy = []\n",
    "depth = []\n",
    "for i in range(1,clf_gini.tree_.max_depth):\n",
    "    clf_gini_1 = train_using_gini(X_train, y_train, i)\n",
    "    y_pred_tree_test = prediction(X_test, clf_gini_1)\n",
    "    y_pred_tree_train = prediction(X_train, clf_gini_1)\n",
    "    test_accuracy.append(accuracy_score(y_test,y_pred_tree_test)*100)\n",
    "    train_accuracy.append(accuracy_score(y_train,y_pred_tree_train)*100)\n",
    "    depth.append(i)\n",
    "    \n",
    "plt.xlabel('Depth')\n",
    "plt.ylabel('Accuracy')\n",
    "plt.plot(depth,train_accuracy, label='train',marker='o')\n",
    "plt.plot(depth,test_accuracy, label='test',marker='o',color='r')\n",
    "plt.legend(loc='best')\n",
    "plt.show()"
   ]
  },
  {
   "cell_type": "code",
   "execution_count": 73,
   "metadata": {
    "colab": {
     "base_uri": "https://localhost:8080/",
     "height": 296
    },
    "id": "Gv8Id2NpfsOk",
    "outputId": "ed1b2eee-176b-4655-994b-f74248751563"
   },
   "outputs": [
    {
     "data": {
      "image/png": "[encoded data removed]",
      "text/plain": [
       "<Figure size 432x288 with 1 Axes>"
      ]
     },
     "metadata": {
      "needs_background": "light"
     },
     "output_type": "display_data"
    }
   ],
   "source": [
    "CC_alpha=[0.0000001,0.000001,0.00001,0.0001,0.001,0.01,0.05]\n",
    "def train_cv_plot_dt(c,s1_linear_train,s1_linear_test):\n",
    "    plt.plot(c,s1_linear_train,label='train',marker='d',markersize=4)\n",
    "    plt.plot(c,s1_linear_test,label='cv',marker='d',markersize=4,color='r')\n",
    "    plt.xlabel(\"cc_aplha\")\n",
    "    plt.ylabel(\"Accuracy\")\n",
    "    plt.legend(loc='best')\n",
    "    plt.title(\"Train and CrossValidation accuracy for Decision Tree as a function of cc_alpha\")\n",
    "train_cv_plot_dt(CC_alpha,s1_dt_train,s1_dt_test)"
   ]
  },
  {
   "cell_type": "code",
   "execution_count": null,
   "metadata": {},
   "outputs": [],
   "source": []
  },
  {
   "cell_type": "code",
   "execution_count": null,
   "metadata": {},
   "outputs": [],
   "source": []
  },
  {
   "cell_type": "code",
   "execution_count": null,
   "metadata": {},
   "outputs": [],
   "source": []
  }
 ],
 "metadata": {
  "colab": {
   "collapsed_sections": [],
   "name": "sigmoidDT.ipynb",
   "provenance": []
  },
  "kernelspec": {
   "display_name": "Python 3",
   "language": "python",
   "name": "python3"
  },
  "language_info": {
   "codemirror_mode": {
    "name": "ipython",
    "version": 3
   },
   "file_extension": ".py",
   "mimetype": "text/x-python",
   "name": "python",
   "nbconvert_exporter": "python",
   "pygments_lexer": "ipython3",
   "version": "3.8.8"
  }
 },
 "nbformat": 4,
 "nbformat_minor": 1
}
