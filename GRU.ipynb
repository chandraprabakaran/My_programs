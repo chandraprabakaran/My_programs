{
  "nbformat": 4,
  "nbformat_minor": 0,
  "metadata": {
    "colab": {
      "name": "6768_vij1.ipynb",
      "provenance": [],
      "collapsed_sections": []
    },
    "kernelspec": {
      "display_name": "Python 3",
      "name": "python3"
    },
    "language_info": {
      "name": "python"
    }
  },
  "cells": [
    {
      "cell_type": "code",
      "metadata": {
        "colab": {
          "base_uri": "https://localhost:8080/"
        },
        "id": "jJqkjpg9b9jI",
        "outputId": "4e2ff974-8c43-486b-a8f2-9bbf05c6c056"
      },
      "source": [
        "from google.colab import drive\n",
        "drive.mount('/content/grive')"
      ],
      "execution_count": null,
      "outputs": [
        {
          "name": "stdout",
          "output_type": "stream",
          "text": [
            "Mounted at /content/grive\n"
          ]
        }
      ]
    },
    {
      "cell_type": "code",
      "metadata": {
        "id": "emeu0yHScPsW"
      },
      "source": [
        "import pandas as pd\n",
        "import numpy as np\n",
        "import tensorflow as tf\n",
        "from tensorflow import keras\n",
        "from keras.models import Sequential\n",
        "from keras.layers.core import Flatten,Dense,Dropout\n",
        "from keras.layers.convolutional import Convolution2D,MaxPooling2D,ZeroPadding2D\n",
        "from tensorflow.keras.optimizers import SGD\n",
        "import cv2"
      ],
      "execution_count": null,
      "outputs": []
    },
    {
      "cell_type": "code",
      "metadata": {
        "id": "JBjHLVFIytKB"
      },
      "source": [
        "import sys, os\n",
        "import pandas as pd\n",
        "import numpy as np\n",
        "import tensorflow as tf\n",
        "from tensorflow import keras\n",
        "from keras.models import Sequential\n",
        "from keras.layers import Dense, Dropout, Activation, Flatten\n",
        "from keras.layers import Conv2D, MaxPooling2D, BatchNormalization,AveragePooling2D\n",
        "from keras.losses import categorical_crossentropy\n",
        "from tensorflow.keras.optimizers import Adam\n",
        "from keras.regularizers import l2\n",
        "from keras.utils import np_utils"
      ],
      "execution_count": null,
      "outputs": []
    },
    {
      "cell_type": "code",
      "metadata": {
        "colab": {
          "base_uri": "https://localhost:8080/"
        },
        "id": "K1-EghjmcoKu",
        "outputId": "ca72abf9-364f-4488-f850-c70b9d44be68"
      },
      "source": [
        "X_train,train_y,X_test,test_y = [], [], [],[]\n",
        "print(\"ready\")"
      ],
      "execution_count": null,
      "outputs": [
        {
          "name": "stdout",
          "output_type": "stream",
          "text": [
            "ready\n"
          ]
        }
      ]
    },
    {
      "cell_type": "code",
      "metadata": {
        "colab": {
          "base_uri": "https://localhost:8080/",
          "height": 204
        },
        "id": "Iqh14MagcrYW",
        "outputId": "0f632134-1a79-46ff-8f62-7f40432ac6c1"
      },
      "source": [
        "df = pd.read_csv(\"/content/grive/MyDrive/fer2013.csv\")\n",
        "df.head()"
      ],
      "execution_count": null,
      "outputs": [
        {
          "data": {
            "text/html": [
              "<div>\n",
              "<style scoped>\n",
              "    .dataframe tbody tr th:only-of-type {\n",
              "        vertical-align: middle;\n",
              "    }\n",
              "\n",
              "    .dataframe tbody tr th {\n",
              "        vertical-align: top;\n",
              "    }\n",
              "\n",
              "    .dataframe thead th {\n",
              "        text-align: right;\n",
              "    }\n",
              "</style>\n",
              "<table border=\"1\" class=\"dataframe\">\n",
              "  <thead>\n",
              "    <tr style=\"text-align: right;\">\n",
              "      <th></th>\n",
              "      <th>emotion</th>\n",
              "      <th>pixels</th>\n",
              "      <th>Usage</th>\n",
              "    </tr>\n",
              "  </thead>\n",
              "  <tbody>\n",
              "    <tr>\n",
              "      <th>0</th>\n",
              "      <td>0</td>\n",
              "      <td>70 80 82 72 58 58 60 63 54 58 60 48 89 115 121...</td>\n",
              "      <td>Training</td>\n",
              "    </tr>\n",
              "    <tr>\n",
              "      <th>1</th>\n",
              "      <td>0</td>\n",
              "      <td>151 150 147 155 148 133 111 140 170 174 182 15...</td>\n",
              "      <td>Training</td>\n",
              "    </tr>\n",
              "    <tr>\n",
              "      <th>2</th>\n",
              "      <td>2</td>\n",
              "      <td>231 212 156 164 174 138 161 173 182 200 106 38...</td>\n",
              "      <td>Training</td>\n",
              "    </tr>\n",
              "    <tr>\n",
              "      <th>3</th>\n",
              "      <td>4</td>\n",
              "      <td>24 32 36 30 32 23 19 20 30 41 21 22 32 34 21 1...</td>\n",
              "      <td>Training</td>\n",
              "    </tr>\n",
              "    <tr>\n",
              "      <th>4</th>\n",
              "      <td>6</td>\n",
              "      <td>4 0 0 0 0 0 0 0 0 0 0 0 3 15 23 28 48 50 58 84...</td>\n",
              "      <td>Training</td>\n",
              "    </tr>\n",
              "  </tbody>\n",
              "</table>\n",
              "</div>"
            ],
            "text/plain": [
              "   emotion                                             pixels     Usage\n",
              "0        0  70 80 82 72 58 58 60 63 54 58 60 48 89 115 121...  Training\n",
              "1        0  151 150 147 155 148 133 111 140 170 174 182 15...  Training\n",
              "2        2  231 212 156 164 174 138 161 173 182 200 106 38...  Training\n",
              "3        4  24 32 36 30 32 23 19 20 30 41 21 22 32 34 21 1...  Training\n",
              "4        6  4 0 0 0 0 0 0 0 0 0 0 0 3 15 23 28 48 50 58 84...  Training"
            ]
          },
          "execution_count": 6,
          "metadata": {},
          "output_type": "execute_result"
        }
      ]
    },
    {
      "cell_type": "code",
      "metadata": {
        "colab": {
          "base_uri": "https://localhost:8080/"
        },
        "id": "HeC4irHFoRn3",
        "outputId": "3bf825f8-7ae9-4644-9d16-a76214dbbfc7"
      },
      "source": [
        "df['emotion'].value_counts()"
      ],
      "execution_count": null,
      "outputs": [
        {
          "data": {
            "text/plain": [
              "3    8989\n",
              "6    6198\n",
              "4    6077\n",
              "2    5121\n",
              "0    4953\n",
              "5    4002\n",
              "1     547\n",
              "Name: emotion, dtype: int64"
            ]
          },
          "execution_count": 7,
          "metadata": {},
          "output_type": "execute_result"
        }
      ]
    },
    {
      "cell_type": "code",
      "metadata": {
        "colab": {
          "base_uri": "https://localhost:8080/"
        },
        "id": "nIr8n-dwde81",
        "outputId": "730e2a0e-8de0-4828-f047-68824607ec27"
      },
      "source": [
        "for index, row in df.iterrows():\n",
        "  val=row['pixels'].split(\" \")\n",
        "  try:\n",
        "    if \"Training\" in row[\"Usage\"]:\n",
        "      X_train.append(np.array(val,\"float32\"))\n",
        "      train_y.append(row[\"emotion\"])\n",
        "    elif \"PublicTest\" in row[\"Usage\"]:\n",
        "        X_test.append(np.array(val,\"float32\"))\n",
        "        test_y.append(row[\"emotion\"])\n",
        "  except:\n",
        "    print(f\"error ocurred at index :{index} and row:{row}\")\n",
        "#X_train.size\n",
        "#print(f\"X train is :{X_train.size} samples\")\n",
        "print(f\"X_Train size is :{len(X_train)}\")\n",
        "print(f\"train_y size is :{len(train_y)}\")\n",
        "print(f\"X_Test size is :{len(X_test)}\")\n",
        "print(f\"test_y size is :{len(test_y)}\")\n",
        "print(\"ready\")"
      ],
      "execution_count": null,
      "outputs": [
        {
          "name": "stdout",
          "output_type": "stream",
          "text": [
            "X_Train size is :28709\n",
            "train_y size is :28709\n",
            "X_Test size is :3589\n",
            "test_y size is :3589\n",
            "ready\n"
          ]
        }
      ]
    },
    {
      "cell_type": "code",
      "metadata": {
        "id": "3vk7ssNPdj6T"
      },
      "source": [
        "num_features=64\n",
        "num_labels=7\n",
        "batch_size =64\n",
        "epochs =50\n",
        "width, heigth = 48,48"
      ],
      "execution_count": null,
      "outputs": []
    },
    {
      "cell_type": "code",
      "metadata": {
        "id": "c8GGEnARdqVu"
      },
      "source": [
        "X_train = np.array(X_train, 'float32')\n",
        "train_y = np.array(train_y, 'float32')\n",
        "\n",
        "X_test = np.array(X_test, 'float32')\n",
        "test_y = np.array(test_y, 'float32')"
      ],
      "execution_count": null,
      "outputs": []
    },
    {
      "cell_type": "code",
      "metadata": {
        "id": "1FrFv3zKdxId"
      },
      "source": [
        "from keras.utils.np_utils import to_categorical"
      ],
      "execution_count": null,
      "outputs": []
    },
    {
      "cell_type": "code",
      "metadata": {
        "id": "We-Adeifd40-"
      },
      "source": [
        "train_y = to_categorical(train_y,num_classes=num_labels)\n",
        "test_y = to_categorical(test_y, num_classes=num_labels)"
      ],
      "execution_count": null,
      "outputs": []
    },
    {
      "cell_type": "code",
      "metadata": {
        "id": "00m8s_Sgd7YF"
      },
      "source": [
        "X_train -= np.mean(X_train, axis=0)\n",
        "X_train /= np.std(X_train, axis=0)\n",
        "\n",
        "X_test -= np.mean(X_test, axis=0)\n",
        "X_test /= np.std(X_test, axis=0)\n",
        "\n",
        "X_train = X_train.reshape(X_train.shape[0],48,48,1)\n",
        "\n",
        "X_test = X_test.reshape(X_test.shape[0],48,48,1)"
      ],
      "execution_count": null,
      "outputs": []
    },
    {
      "cell_type": "code",
      "metadata": {
        "id": "lVn7tHoAd93-"
      },
      "source": [
        "from tensorflow.keras.layers import Dense,Conv2D,Flatten,Dropout,MaxPooling2D,Activation\n",
        "from tensorflow.keras.preprocessing import image\n",
        "import matplotlib.pyplot as plt\n",
        "from tensorflow.keras.losses import categorical_crossentropy\n",
        "from tensorflow.keras import layers\n",
        "from tensorflow import keras"
      ],
      "execution_count": null,
      "outputs": []
    },
    {
      "cell_type": "code",
      "metadata": {
        "colab": {
          "base_uri": "https://localhost:8080/"
        },
        "id": "nVVctuUJeAUu",
        "outputId": "07278d23-3d27-42fd-f3ff-55e78097ea1b"
      },
      "source": [
        "model = Sequential()\n",
        "model.add(Conv2D(64, kernel_size=(3,3), activation='relu',input_shape=(X_train.shape[1:])))\n",
        "model.add(Conv2D(64,kernel_size=(3,3), activation='relu'))\n",
        "model.add(MaxPooling2D(pool_size=(2,2),strides=(2,2)))\n",
        "model.add(Dropout(0.5))\n",
        "\n",
        "#2nd convolution layer+\n",
        "model.add(Conv2D(64,kernel_size=(3,3), activation='relu'))\n",
        "model.add(Conv2D(64,kernel_size=(3,3), activation='relu'))\n",
        "\n",
        "model.add(MaxPooling2D(pool_size=(2,2),strides=(2,2)))\n",
        "model.add(Dropout(0.5))\n",
        "\n",
        "\n",
        "\n",
        "#3rd convolution layer\n",
        "model.add(Conv2D(128,kernel_size=(3,3), activation='relu'))\n",
        "model.add(Conv2D(128,kernel_size=(3,3), activation='relu'))\n",
        "model.add(MaxPooling2D(pool_size=(2,2),strides=(2,2)))\n",
        "\n",
        "model.add(Flatten())\n",
        "\n",
        "#fully connected neural network\n",
        "\n",
        "model.add(Dense(1024,activation='relu'))\n",
        "model.add(Dropout(0.2))\n",
        "model.add(Dense(1024,activation='relu'))\n",
        "model.add(Dropout(0.2))\n",
        "\n",
        "model.add(Dense(num_labels,activation=\"softmax\"))\n",
        "\n",
        "model.summary()"
      ],
      "execution_count": null,
      "outputs": [
        {
          "name": "stdout",
          "output_type": "stream",
          "text": [
            "Model: \"sequential\"\n",
            "_________________________________________________________________\n",
            " Layer (type)                Output Shape              Param #   \n",
            "=================================================================\n",
            " conv2d (Conv2D)             (None, 46, 46, 64)        640       \n",
            "                                                                 \n",
            " conv2d_1 (Conv2D)           (None, 44, 44, 64)        36928     \n",
            "                                                                 \n",
            " max_pooling2d (MaxPooling2D  (None, 22, 22, 64)       0         \n",
            " )                                                               \n",
            "                                                                 \n",
            " dropout (Dropout)           (None, 22, 22, 64)        0         \n",
            "                                                                 \n",
            " conv2d_2 (Conv2D)           (None, 20, 20, 64)        36928     \n",
            "                                                                 \n",
            " conv2d_3 (Conv2D)           (None, 18, 18, 64)        36928     \n",
            "                                                                 \n",
            " max_pooling2d_1 (MaxPooling  (None, 9, 9, 64)         0         \n",
            " 2D)                                                             \n",
            "                                                                 \n",
            " dropout_1 (Dropout)         (None, 9, 9, 64)          0         \n",
            "                                                                 \n",
            " conv2d_4 (Conv2D)           (None, 7, 7, 128)         73856     \n",
            "                                                                 \n",
            " conv2d_5 (Conv2D)           (None, 5, 5, 128)         147584    \n",
            "                                                                 \n",
            " max_pooling2d_2 (MaxPooling  (None, 2, 2, 128)        0         \n",
            " 2D)                                                             \n",
            "                                                                 \n",
            " flatten (Flatten)           (None, 512)               0         \n",
            "                                                                 \n",
            " dense (Dense)               (None, 1024)              525312    \n",
            "                                                                 \n",
            " dropout_2 (Dropout)         (None, 1024)              0         \n",
            "                                                                 \n",
            " dense_1 (Dense)             (None, 1024)              1049600   \n",
            "                                                                 \n",
            " dropout_3 (Dropout)         (None, 1024)              0         \n",
            "                                                                 \n",
            " dense_2 (Dense)             (None, 7)                 7175      \n",
            "                                                                 \n",
            "=================================================================\n",
            "Total params: 1,914,951\n",
            "Trainable params: 1,914,951\n",
            "Non-trainable params: 0\n",
            "_________________________________________________________________\n"
          ]
        }
      ]
    },
    {
      "cell_type": "code",
      "metadata": {
        "id": "Bt-GYEyseEJF"
      },
      "source": [
        "model.compile(loss=categorical_crossentropy,\n",
        "              optimizer =Adam(),\n",
        "              metrics=['accuracy'])"
      ],
      "execution_count": null,
      "outputs": []
    },
    {
      "cell_type": "code",
      "metadata": {
        "colab": {
          "background_save": true,
          "base_uri": "https://localhost:8080/"
        },
        "id": "3ic98_FieHCN",
        "outputId": "ecad374e-c998-4291-e84c-7e76eef9d279"
      },
      "source": [
        "model.fit(X_train,train_y,\n",
        "          batch_size=batch_size,\n",
        "          epochs=50,\n",
        "          verbose=1,\n",
        "          validation_data=(X_test,test_y),\n",
        "          shuffle=True)"
      ],
      "execution_count": null,
      "outputs": [
        {
          "name": "stdout",
          "output_type": "stream",
          "text": [
            "Epoch 1/50\n",
            "449/449 [==============================] - 524s 1s/step - loss: 1.7438 - accuracy: 0.2824 - val_loss: 1.6133 - val_accuracy: 0.3461\n",
            "Epoch 2/50\n",
            "449/449 [==============================] - 520s 1s/step - loss: 1.5365 - accuracy: 0.3938 - val_loss: 1.4263 - val_accuracy: 0.4497\n",
            "Epoch 3/50\n",
            "449/449 [==============================] - 517s 1s/step - loss: 1.4113 - accuracy: 0.4493 - val_loss: 1.3516 - val_accuracy: 0.4776\n",
            "Epoch 4/50\n",
            "449/449 [==============================] - 519s 1s/step - loss: 1.3442 - accuracy: 0.4793 - val_loss: 1.3072 - val_accuracy: 0.4898\n",
            "Epoch 5/50\n",
            "449/449 [==============================] - 516s 1s/step - loss: 1.2966 - accuracy: 0.5007 - val_loss: 1.2631 - val_accuracy: 0.5032\n",
            "Epoch 6/50\n",
            "449/449 [==============================] - 515s 1s/step - loss: 1.2591 - accuracy: 0.5154 - val_loss: 1.2522 - val_accuracy: 0.5157\n",
            "Epoch 7/50\n",
            "449/449 [==============================] - 514s 1s/step - loss: 1.2332 - accuracy: 0.5286 - val_loss: 1.2053 - val_accuracy: 0.5383\n",
            "Epoch 8/50\n",
            "449/449 [==============================] - 515s 1s/step - loss: 1.1982 - accuracy: 0.5430 - val_loss: 1.2053 - val_accuracy: 0.5417\n",
            "Epoch 9/50\n",
            "449/449 [==============================] - 514s 1s/step - loss: 1.1720 - accuracy: 0.5507 - val_loss: 1.1710 - val_accuracy: 0.5514\n",
            "Epoch 10/50\n",
            "449/449 [==============================] - 514s 1s/step - loss: 1.1550 - accuracy: 0.5579 - val_loss: 1.1781 - val_accuracy: 0.5397\n",
            "Epoch 11/50\n",
            "449/449 [==============================] - 512s 1s/step - loss: 1.1294 - accuracy: 0.5653 - val_loss: 1.1859 - val_accuracy: 0.5422\n",
            "Epoch 12/50\n",
            "449/449 [==============================] - 513s 1s/step - loss: 1.1061 - accuracy: 0.5739 - val_loss: 1.1566 - val_accuracy: 0.5634\n",
            "Epoch 13/50\n",
            "449/449 [==============================] - 513s 1s/step - loss: 1.0922 - accuracy: 0.5839 - val_loss: 1.1566 - val_accuracy: 0.5642\n",
            "Epoch 14/50\n",
            "449/449 [==============================] - 513s 1s/step - loss: 1.0786 - accuracy: 0.5900 - val_loss: 1.1471 - val_accuracy: 0.5564\n",
            "Epoch 15/50\n",
            "449/449 [==============================] - 517s 1s/step - loss: 1.0570 - accuracy: 0.5980 - val_loss: 1.1673 - val_accuracy: 0.5673\n",
            "Epoch 16/50\n",
            "449/449 [==============================] - 515s 1s/step - loss: 1.0439 - accuracy: 0.6021 - val_loss: 1.1459 - val_accuracy: 0.5684\n",
            "Epoch 17/50\n",
            "449/449 [==============================] - 510s 1s/step - loss: 1.0313 - accuracy: 0.6082 - val_loss: 1.1790 - val_accuracy: 0.5598\n",
            "Epoch 18/50\n",
            "449/449 [==============================] - 512s 1s/step - loss: 1.0042 - accuracy: 0.6172 - val_loss: 1.1695 - val_accuracy: 0.5589\n",
            "Epoch 19/50\n",
            "449/449 [==============================] - 510s 1s/step - loss: 0.9824 - accuracy: 0.6270 - val_loss: 1.1675 - val_accuracy: 0.5595\n",
            "Epoch 20/50\n",
            "449/449 [==============================] - 514s 1s/step - loss: 0.9686 - accuracy: 0.6297 - val_loss: 1.1620 - val_accuracy: 0.5695\n",
            "Epoch 21/50\n",
            "449/449 [==============================] - 510s 1s/step - loss: 0.9559 - accuracy: 0.6370 - val_loss: 1.1552 - val_accuracy: 0.5782\n",
            "Epoch 22/50\n",
            "449/449 [==============================] - 510s 1s/step - loss: 0.9385 - accuracy: 0.6456 - val_loss: 1.1837 - val_accuracy: 0.5681\n",
            "Epoch 23/50\n",
            "449/449 [==============================] - 511s 1s/step - loss: 0.9267 - accuracy: 0.6486 - val_loss: 1.2145 - val_accuracy: 0.5497\n",
            "Epoch 24/50\n",
            "449/449 [==============================] - 511s 1s/step - loss: 0.9181 - accuracy: 0.6512 - val_loss: 1.1723 - val_accuracy: 0.5770\n",
            "Epoch 25/50\n",
            "234/449 [==============>...............] - ETA: 3:57 - loss: 0.8760 - accuracy: 0.6663"
          ]
        }
      ]
    }
  ]
}